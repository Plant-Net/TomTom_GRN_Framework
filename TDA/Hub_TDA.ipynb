{
 "cells": [
  {
   "cell_type": "markdown",
   "metadata": {},
   "source": [
    "#### Use the TDA to instead of community detection and perform hubs detection"
   ]
  },
  {
   "cell_type": "code",
   "execution_count": null,
   "metadata": {},
   "outputs": [],
   "source": [
    "import subprocess\n",
    "import igraph as ig\n",
    "import matplotlib.pyplot as plt\n",
    "from matplotlib_venn import venn2\n",
    "import pandas as pd\n",
    "import numpy as np\n",
    "import seaborn as sns\n",
    "import itertools\n",
    "plt.rcParams['svg.fonttype'] = 'none'"
   ]
  },
  {
   "cell_type": "markdown",
   "metadata": {},
   "source": [
    "Import GRN"
   ]
  },
  {
   "cell_type": "code",
   "execution_count": 12,
   "metadata": {},
   "outputs": [],
   "source": [
    "# Step 1: Read the content from the local file\n",
    "with open('./mapper_nodes.txt', 'r') as file:\n",
    "    content = file.read()\n",
    "\n",
    "# Step 2: Interpret the content with 'eval' or 'ast.literal_eval'\n",
    "# Create a dictionary to safely handle 'array'\n",
    "data = eval(content, {\"array\": np.array})\n",
    "\n",
    "# Step 3: Convert data to a DataFrame for easier manipulation\n",
    "rows = []\n",
    "for value, genes in data:\n",
    "    for gene in genes:\n",
    "        rows.append({'Value': value, 'Gene': gene})\n",
    "\n",
    "df = pd.DataFrame(rows)"
   ]
  },
  {
   "cell_type": "code",
   "execution_count": 16,
   "metadata": {},
   "outputs": [],
   "source": [
    "df.to_csv('Mapper_node_df.tsv', sep='\\t', index=False)"
   ]
  },
  {
   "cell_type": "code",
   "execution_count": 5,
   "metadata": {},
   "outputs": [],
   "source": [
    "cGRN = pd.read_csv('./Curated_gene_regulatory_network.tsv', sep='\\t')\n",
    "mapper_cluster = df"
   ]
  },
  {
   "cell_type": "code",
   "execution_count": 6,
   "metadata": {},
   "outputs": [
    {
     "name": "stdout",
     "output_type": "stream",
     "text": [
      "Summary of the graph:\n",
      "Number of vertices: 1786\n",
      "Number of edges: 4201\n"
     ]
    }
   ],
   "source": [
    "# Create an igraph Graph from the edge list\n",
    "graph = ig.Graph.TupleList(cGRN[['TF', 'Target_Gene']].itertuples(index=False), directed=True)\n",
    "\n",
    "# Print summary of the graph\n",
    "print(\"Summary of the graph:\")\n",
    "print(\"Number of vertices:\", graph.vcount())\n",
    "print(\"Number of edges:\", graph.ecount())"
   ]
  },
  {
   "cell_type": "code",
   "execution_count": 29,
   "metadata": {},
   "outputs": [],
   "source": [
    "node_names = graph.vs['name']  # Get the names of the vertices\n",
    "in_degrees = graph.degree(mode='in')  # In-degree\n",
    "out_degrees = graph.degree(mode='out')  # Out-degree\n",
    "total_degrees = graph.degree(mode='all')  # Total degree\n",
    "\n",
    "degree_df = pd.DataFrame({\n",
    "    'Gene_Name': node_names,\n",
    "    'In_Degree': in_degrees,\n",
    "    'Out_Degree': out_degrees,\n",
    "    'Total_Degree': total_degrees\n",
    "})"
   ]
  },
  {
   "cell_type": "code",
   "execution_count": 30,
   "metadata": {},
   "outputs": [],
   "source": [
    "degree_df.to_csv('Degree_CGRN.tsv', sep='\\t', index=False)"
   ]
  },
  {
   "cell_type": "markdown",
   "metadata": {},
   "source": [
    "### Hub detection"
   ]
  },
  {
   "cell_type": "markdown",
   "metadata": {},
   "source": [
    "Hub detection by cluster when more than 2 TFs"
   ]
  },
  {
   "cell_type": "code",
   "execution_count": 31,
   "metadata": {},
   "outputs": [
    {
     "name": "stdout",
     "output_type": "stream",
     "text": [
      "Community - Hub Nodes:\n",
      "Community 0: Hubs ['Solyc02g090220', 'Solyc04g056310']\n",
      "Community 2: Hubs ['Solyc06g051840']\n",
      "Community 3: Hubs ['Solyc07g054220']\n",
      "Community 5: Hubs ['Solyc02g077840']\n",
      "Community 7: Hubs ['Solyc03g093550']\n",
      "Community 9: Hubs ['Solyc07g063420', 'Solyc12g009240']\n",
      "Community 18: Hubs ['Solyc07g063420', 'Solyc12g009240']\n",
      "Community 19: Hubs ['Solyc12g009240', 'Solyc10g047640']\n",
      "Community 13: Hubs ['Solyc09g010820', 'Solyc04g082480']\n",
      "Community 11: Hubs ['Solyc06g082430']\n",
      "Community 16: Hubs ['Solyc06g082430', 'Solyc10g047640']\n"
     ]
    }
   ],
   "source": [
    "# Dictionary to store community and corresponding hub nodes\n",
    "community_hubs = {}\n",
    "# Dictionary to store centrality values for each node\n",
    "node_centrality = {}\n",
    "\n",
    "edge_counts = {}\n",
    "nodes_counts = {}\n",
    "\n",
    "# Iterate through communities\n",
    "for community_id in mapper_cluster['Value'].unique():\n",
    "    if mapper_cluster[mapper_cluster['Value'] == community_id].shape[0] >= 2 :\n",
    "        sub_cGRN = cGRN[(cGRN['TF'].isin(mapper_cluster[mapper_cluster['Value'] == community_id]['Gene']))]\n",
    "        subgraph = ig.Graph.TupleList(sub_cGRN[['TF', 'Target_Gene']].itertuples(index=False), directed=True)\n",
    "\n",
    "        nodes_counts[community_id]=subgraph.vcount()\n",
    "        edge_counts[community_id]=subgraph.ecount()\n",
    "        # Compute centrality measures for nodes in the community subgraph\n",
    "        degree_centrality = subgraph.degree()\n",
    "        betweenness_centrality = subgraph.betweenness(directed=True)\n",
    "        # closeness_centrality = subgraph.closeness(normalized=True)\n",
    "        # eigenvector_centrality = subgraph.evcent(directed=True)\n",
    "        # pagerank_centrality = subgraph.pagerank(directed=True)\n",
    "        # Find nodes with the highest degree centrality\n",
    "        max_degree_value = max(degree_centrality)\n",
    "        max_degree_nodes = [subgraph.vs[node][\"name\"] for node, centrality in enumerate(degree_centrality) if centrality == max_degree_value]\n",
    "\n",
    "        # Find nodes with the highest betweenness centrality, excluding 0\n",
    "        max_betweenness_value = max(betweenness_centrality, default=None)\n",
    "        if max_betweenness_value is not None and max_betweenness_value != 0:\n",
    "            max_betweenness_nodes = [subgraph.vs[node][\"name\"] for node, centrality in enumerate(betweenness_centrality) if centrality == max_betweenness_value]\n",
    "        else:\n",
    "            max_betweenness_nodes = []\n",
    "\n",
    "        # Find nodes with the highest closeness centrality\n",
    "        # max_closeness_value = max(closeness_centrality)\n",
    "        # max_closeness_nodes = [subgraph.vs[node][\"name\"] for node, centrality in enumerate(closeness_centrality) if centrality == max_closeness_value]\n",
    "\n",
    "        # Find nodes with the highest eigenvector centrality, excluding 0\n",
    "        # max_eigenvector_value = max(eigenvector_centrality, default=None)\n",
    "        # if max_eigenvector_value is not None and max_eigenvector_value != 0:\n",
    "        #     max_eigenvector_nodes = [subgraph.vs[node][\"name\"] for node, centrality in enumerate(eigenvector_centrality) if centrality == max_eigenvector_value]\n",
    "        # else:\n",
    "        #     max_eigenvector_nodes = []\n",
    "\n",
    "        # Find nodes with the highest PageRank centrality, excluding 0\n",
    "        # max_pagerank_value = max(pagerank_centrality, default=None)\n",
    "        # if max_pagerank_value is not None and max_pagerank_value != 0:\n",
    "        #     max_pagerank_nodes = [subgraph.vs[node][\"name\"] for node, centrality in enumerate(pagerank_centrality) if centrality == max_pagerank_value]\n",
    "        # else:\n",
    "        #     max_pagerank_nodes = []\n",
    "\n",
    "        # Combine all nodes with the highest centrality values\n",
    "        hub_nodes = list(set(max_degree_nodes + max_betweenness_nodes))\n",
    "        # Store the hub nodes for the community\n",
    "        community_hubs[community_id] = hub_nodes\n",
    "        \n",
    "        # Update node_centrality dictionary with centrality values for nodes in the community\n",
    "        for node_index, node_name in enumerate(subgraph.vs[\"name\"]):\n",
    "            node_centrality.setdefault(node_name, {}).update({\n",
    "                \"Degree Centrality\": degree_centrality[node_index],\n",
    "                \"Betweenness Centrality\": betweenness_centrality[node_index],\n",
    "                # \"Closeness Centrality\": closeness_centrality[node_index],\n",
    "                # \"Eigenvector Centrality\": eigenvector_centrality[node_index]\n",
    "                # \"PageRank Centrality\": pagerank_centrality[node_index]\n",
    "            })\n",
    "\n",
    "# Print the dictionary of community and corresponding hub nodes\n",
    "print(\"Community - Hub Nodes:\")\n",
    "for community, hub_nodes in community_hubs.items():\n",
    "    print(f\"Community {community}: Hubs {hub_nodes}\")"
   ]
  },
  {
   "cell_type": "markdown",
   "metadata": {},
   "source": [
    "Hub detection by cluster indep of number of TF :"
   ]
  },
  {
   "cell_type": "code",
   "execution_count": 32,
   "metadata": {},
   "outputs": [
    {
     "name": "stdout",
     "output_type": "stream",
     "text": [
      "Community - Hub Nodes:\n",
      "Community 0: Hubs ['Solyc02g090220', 'Solyc04g056310']\n",
      "Community 2: Hubs ['Solyc06g051840']\n",
      "Community 3: Hubs ['Solyc07g054220']\n",
      "Community 4: Hubs ['Solyc08g005260']\n",
      "Community 5: Hubs ['Solyc02g077840']\n",
      "Community 6: Hubs ['Solyc08g005260']\n",
      "Community 7: Hubs ['Solyc03g093550']\n",
      "Community 1: Hubs ['Solyc05g007180']\n",
      "Community 8: Hubs ['Solyc02g086930']\n",
      "Community 9: Hubs ['Solyc07g063420', 'Solyc12g009240']\n",
      "Community 18: Hubs ['Solyc07g063420', 'Solyc12g009240']\n",
      "Community 19: Hubs ['Solyc12g009240', 'Solyc10g047640']\n",
      "Community 13: Hubs ['Solyc09g010820', 'Solyc04g082480']\n",
      "Community 17: Hubs ['Solyc07g063420']\n",
      "Community 11: Hubs ['Solyc06g082430']\n",
      "Community 16: Hubs ['Solyc06g082430', 'Solyc10g047640']\n",
      "Community 14: Hubs ['Solyc04g082480']\n",
      "Community 15: Hubs ['Solyc09g010820']\n"
     ]
    }
   ],
   "source": [
    "# Dictionary to store community and corresponding hub nodes\n",
    "community_hubs = {}\n",
    "# Dictionary to store centrality values for each node\n",
    "node_centrality = {}\n",
    "edge_counts = {}\n",
    "nodes_counts = {}\n",
    "# Iterate through communities\n",
    "for community_id in mapper_cluster['Value'].unique():\n",
    "    if mapper_cluster[mapper_cluster['Value'] == community_id].shape[0] >= 1:\n",
    "        sub_cGRN = cGRN[(cGRN['TF'].isin(mapper_cluster[mapper_cluster['Value'] == community_id]['Gene']))]\n",
    "        subgraph = ig.Graph.TupleList(sub_cGRN[['TF', 'Target_Gene']].itertuples(index=False), directed=True)\n",
    "        nodes_counts[community_id]=subgraph.vcount()\n",
    "        edge_counts[community_id] = subgraph.ecount()\n",
    "\n",
    "        # Compute centrality measures for nodes in the community subgraph\n",
    "        degree_centrality = subgraph.degree()\n",
    "        betweenness_centrality = subgraph.betweenness(directed=True)\n",
    "\n",
    "        # Find top two nodes for degree centrality\n",
    "        degree_centrality_with_names = [(subgraph.vs[node][\"name\"], centrality) for node, centrality in enumerate(degree_centrality)]\n",
    "        degree_centrality_with_names.sort(key=lambda x: x[1], reverse=True)\n",
    "\n",
    "        max_degree_nodes = degree_centrality_with_names[:1]  # Top 2 nodes\n",
    "        max_degree_nodes = [node[0] for node in max_degree_nodes]  # Extract names\n",
    "\n",
    "        # Find top two nodes for betweenness centrality\n",
    "        betweenness_centrality_with_names = [(subgraph.vs[node][\"name\"], centrality) for node, centrality in enumerate(betweenness_centrality)]\n",
    "        betweenness_centrality_with_names.sort(key=lambda x: x[1], reverse=True)\n",
    "\n",
    "        max_betweenness_nodes = betweenness_centrality_with_names[:1]  # Top 2 nodes\n",
    "        max_betweenness_nodes = [node[0] for node in max_betweenness_nodes if node[1] > 0]  # Exclude zero centrality\n",
    "\n",
    "        # Combine all nodes with the highest centrality values\n",
    "        hub_nodes = list(set(max_degree_nodes + max_betweenness_nodes))\n",
    "\n",
    "        # Store the hub nodes for the community\n",
    "        community_hubs[community_id] = hub_nodes\n",
    "\n",
    "        # Update node_centrality dictionary with centrality values for nodes in the community\n",
    "        for node_index, node_name in enumerate(subgraph.vs[\"name\"]):\n",
    "            node_centrality.setdefault(node_name, {}).update({\n",
    "                \"Degree Centrality\": degree_centrality[node_index],\n",
    "                \"Betweenness Centrality\": betweenness_centrality[node_index],\n",
    "            })\n",
    "\n",
    "# Print the dictionary of community and corresponding hub nodes\n",
    "print(\"Community - Hub Nodes:\")\n",
    "for community, hub_nodes in community_hubs.items():\n",
    "    print(f\"Community {community}: Hubs {hub_nodes}\")"
   ]
  },
  {
   "cell_type": "code",
   "execution_count": 33,
   "metadata": {},
   "outputs": [],
   "source": [
    "# with open('Hubs_TDA_dict.txt', 'w') as file:\n",
    "#     for key, value in community_hubs.items():\n",
    "#         file.write('%s:%s\\n' % (key,value))"
   ]
  },
  {
   "cell_type": "code",
   "execution_count": 34,
   "metadata": {},
   "outputs": [],
   "source": [
    "unique_values_cluster = set(val for sublist in community_hubs.values() for val in sublist)"
   ]
  },
  {
   "cell_type": "code",
   "execution_count": 35,
   "metadata": {},
   "outputs": [
    {
     "data": {
      "text/plain": [
       "15"
      ]
     },
     "execution_count": 35,
     "metadata": {},
     "output_type": "execute_result"
    }
   ],
   "source": [
    "len(unique_values_cluster)"
   ]
  },
  {
   "cell_type": "markdown",
   "metadata": {},
   "source": [
    "### Compare with previous hubs found"
   ]
  },
  {
   "cell_type": "code",
   "execution_count": 36,
   "metadata": {},
   "outputs": [],
   "source": [
    "res_hubs = pd.read_csv('../Results_hubs_activity_stats.tsv',sep='\\t')"
   ]
  },
  {
   "cell_type": "code",
   "execution_count": 37,
   "metadata": {},
   "outputs": [
    {
     "ename": "KeyError",
     "evalue": "'Is_Hub'",
     "output_type": "error",
     "traceback": [
      "\u001b[0;31m---------------------------------------------------------------------------\u001b[0m",
      "\u001b[0;31mKeyError\u001b[0m                                  Traceback (most recent call last)",
      "File \u001b[0;32m~/miniconda3/envs/GRN/lib/python3.12/site-packages/pandas/core/indexes/base.py:3805\u001b[0m, in \u001b[0;36mIndex.get_loc\u001b[0;34m(self, key)\u001b[0m\n\u001b[1;32m   3804\u001b[0m \u001b[38;5;28;01mtry\u001b[39;00m:\n\u001b[0;32m-> 3805\u001b[0m     \u001b[38;5;28;01mreturn\u001b[39;00m \u001b[38;5;28;43mself\u001b[39;49m\u001b[38;5;241;43m.\u001b[39;49m\u001b[43m_engine\u001b[49m\u001b[38;5;241;43m.\u001b[39;49m\u001b[43mget_loc\u001b[49m\u001b[43m(\u001b[49m\u001b[43mcasted_key\u001b[49m\u001b[43m)\u001b[49m\n\u001b[1;32m   3806\u001b[0m \u001b[38;5;28;01mexcept\u001b[39;00m \u001b[38;5;167;01mKeyError\u001b[39;00m \u001b[38;5;28;01mas\u001b[39;00m err:\n",
      "File \u001b[0;32mindex.pyx:167\u001b[0m, in \u001b[0;36mpandas._libs.index.IndexEngine.get_loc\u001b[0;34m()\u001b[0m\n",
      "File \u001b[0;32mindex.pyx:196\u001b[0m, in \u001b[0;36mpandas._libs.index.IndexEngine.get_loc\u001b[0;34m()\u001b[0m\n",
      "File \u001b[0;32mpandas/_libs/hashtable_class_helper.pxi:7081\u001b[0m, in \u001b[0;36mpandas._libs.hashtable.PyObjectHashTable.get_item\u001b[0;34m()\u001b[0m\n",
      "File \u001b[0;32mpandas/_libs/hashtable_class_helper.pxi:7089\u001b[0m, in \u001b[0;36mpandas._libs.hashtable.PyObjectHashTable.get_item\u001b[0;34m()\u001b[0m\n",
      "\u001b[0;31mKeyError\u001b[0m: 'Is_Hub'",
      "\nThe above exception was the direct cause of the following exception:\n",
      "\u001b[0;31mKeyError\u001b[0m                                  Traceback (most recent call last)",
      "Cell \u001b[0;32mIn[37], line 1\u001b[0m\n\u001b[0;32m----> 1\u001b[0m hub_set \u001b[38;5;241m=\u001b[39m \u001b[38;5;28mset\u001b[39m(res_hubs[\u001b[43mres_hubs\u001b[49m\u001b[43m[\u001b[49m\u001b[38;5;124;43m'\u001b[39;49m\u001b[38;5;124;43mIs_Hub\u001b[39;49m\u001b[38;5;124;43m'\u001b[39;49m\u001b[43m]\u001b[49m][\u001b[38;5;124m'\u001b[39m\u001b[38;5;124mOLN\u001b[39m\u001b[38;5;124m'\u001b[39m]\u001b[38;5;241m.\u001b[39munique())\n",
      "File \u001b[0;32m~/miniconda3/envs/GRN/lib/python3.12/site-packages/pandas/core/frame.py:4102\u001b[0m, in \u001b[0;36mDataFrame.__getitem__\u001b[0;34m(self, key)\u001b[0m\n\u001b[1;32m   4100\u001b[0m \u001b[38;5;28;01mif\u001b[39;00m \u001b[38;5;28mself\u001b[39m\u001b[38;5;241m.\u001b[39mcolumns\u001b[38;5;241m.\u001b[39mnlevels \u001b[38;5;241m>\u001b[39m \u001b[38;5;241m1\u001b[39m:\n\u001b[1;32m   4101\u001b[0m     \u001b[38;5;28;01mreturn\u001b[39;00m \u001b[38;5;28mself\u001b[39m\u001b[38;5;241m.\u001b[39m_getitem_multilevel(key)\n\u001b[0;32m-> 4102\u001b[0m indexer \u001b[38;5;241m=\u001b[39m \u001b[38;5;28;43mself\u001b[39;49m\u001b[38;5;241;43m.\u001b[39;49m\u001b[43mcolumns\u001b[49m\u001b[38;5;241;43m.\u001b[39;49m\u001b[43mget_loc\u001b[49m\u001b[43m(\u001b[49m\u001b[43mkey\u001b[49m\u001b[43m)\u001b[49m\n\u001b[1;32m   4103\u001b[0m \u001b[38;5;28;01mif\u001b[39;00m is_integer(indexer):\n\u001b[1;32m   4104\u001b[0m     indexer \u001b[38;5;241m=\u001b[39m [indexer]\n",
      "File \u001b[0;32m~/miniconda3/envs/GRN/lib/python3.12/site-packages/pandas/core/indexes/base.py:3812\u001b[0m, in \u001b[0;36mIndex.get_loc\u001b[0;34m(self, key)\u001b[0m\n\u001b[1;32m   3807\u001b[0m     \u001b[38;5;28;01mif\u001b[39;00m \u001b[38;5;28misinstance\u001b[39m(casted_key, \u001b[38;5;28mslice\u001b[39m) \u001b[38;5;129;01mor\u001b[39;00m (\n\u001b[1;32m   3808\u001b[0m         \u001b[38;5;28misinstance\u001b[39m(casted_key, abc\u001b[38;5;241m.\u001b[39mIterable)\n\u001b[1;32m   3809\u001b[0m         \u001b[38;5;129;01mand\u001b[39;00m \u001b[38;5;28many\u001b[39m(\u001b[38;5;28misinstance\u001b[39m(x, \u001b[38;5;28mslice\u001b[39m) \u001b[38;5;28;01mfor\u001b[39;00m x \u001b[38;5;129;01min\u001b[39;00m casted_key)\n\u001b[1;32m   3810\u001b[0m     ):\n\u001b[1;32m   3811\u001b[0m         \u001b[38;5;28;01mraise\u001b[39;00m InvalidIndexError(key)\n\u001b[0;32m-> 3812\u001b[0m     \u001b[38;5;28;01mraise\u001b[39;00m \u001b[38;5;167;01mKeyError\u001b[39;00m(key) \u001b[38;5;28;01mfrom\u001b[39;00m \u001b[38;5;21;01merr\u001b[39;00m\n\u001b[1;32m   3813\u001b[0m \u001b[38;5;28;01mexcept\u001b[39;00m \u001b[38;5;167;01mTypeError\u001b[39;00m:\n\u001b[1;32m   3814\u001b[0m     \u001b[38;5;66;03m# If we have a listlike key, _check_indexing_error will raise\u001b[39;00m\n\u001b[1;32m   3815\u001b[0m     \u001b[38;5;66;03m#  InvalidIndexError. Otherwise we fall through and re-raise\u001b[39;00m\n\u001b[1;32m   3816\u001b[0m     \u001b[38;5;66;03m#  the TypeError.\u001b[39;00m\n\u001b[1;32m   3817\u001b[0m     \u001b[38;5;28mself\u001b[39m\u001b[38;5;241m.\u001b[39m_check_indexing_error(key)\n",
      "\u001b[0;31mKeyError\u001b[0m: 'Is_Hub'"
     ]
    }
   ],
   "source": [
    "hub_set = set(res_hubs[res_hubs['Is_Hub']]['OLN'].unique())"
   ]
  },
  {
   "cell_type": "code",
   "execution_count": null,
   "metadata": {},
   "outputs": [
    {
     "data": {
      "text/plain": [
       "<matplotlib_venn._common.VennDiagram at 0x7a33991bdd30>"
      ]
     },
     "execution_count": 13,
     "metadata": {},
     "output_type": "execute_result"
    },
    {
     "data": {
      "image/png": "[encoded data removed]",
      "text/plain": [
       "<Figure size 640x480 with 1 Axes>"
      ]
     },
     "metadata": {},
     "output_type": "display_data"
    }
   ],
   "source": [
    "venn2([unique_values_cluster,hub_set], set_labels=('Hubs by TDA','hubs by leiden'))"
   ]
  },
  {
   "cell_type": "code",
   "execution_count": null,
   "metadata": {},
   "outputs": [],
   "source": [
    "hub_signif_tf_set = set(res_hubs[(res_hubs['Is_Hub']) & (~res_hubs['Groups'].isna())]['OLN'].unique())"
   ]
  },
  {
   "cell_type": "code",
   "execution_count": null,
   "metadata": {},
   "outputs": [
    {
     "data": {
      "text/plain": [
       "<matplotlib_venn._common.VennDiagram at 0x7a3397e82150>"
      ]
     },
     "execution_count": 15,
     "metadata": {},
     "output_type": "execute_result"
    },
    {
     "data": {
      "image/png": "[encoded data removed]",
      "text/plain": [
       "<Figure size 640x480 with 1 Axes>"
      ]
     },
     "metadata": {},
     "output_type": "display_data"
    }
   ],
   "source": [
    "venn2([unique_values_cluster,hub_signif_tf_set], set_labels=('Hubs by TDA','TF 15'))"
   ]
  },
  {
   "cell_type": "code",
   "execution_count": null,
   "metadata": {},
   "outputs": [
    {
     "data": {
      "text/plain": [
       "{'Solyc02g090220', 'Solyc06g051840', 'Solyc12g009240'}"
      ]
     },
     "execution_count": 16,
     "metadata": {},
     "output_type": "execute_result"
    }
   ],
   "source": [
    "unique_values_cluster.intersection(hub_signif_tf_set)"
   ]
  },
  {
   "cell_type": "code",
   "execution_count": null,
   "metadata": {},
   "outputs": [],
   "source": [
    "signif_tf = res_hubs[~res_hubs['Groups'].isna()]"
   ]
  },
  {
   "cell_type": "code",
   "execution_count": null,
   "metadata": {},
   "outputs": [],
   "source": [
    "set_signif_tf = set(signif_tf['OLN'].unique())"
   ]
  },
  {
   "cell_type": "code",
   "execution_count": null,
   "metadata": {},
   "outputs": [
    {
     "data": {
      "text/plain": [
       "<matplotlib_venn._common.VennDiagram at 0x7a3397e0b560>"
      ]
     },
     "execution_count": 19,
     "metadata": {},
     "output_type": "execute_result"
    },
    {
     "data": {
      "image/png": "[encoded data removed]",
      "text/plain": [
       "<Figure size 640x480 with 1 Axes>"
      ]
     },
     "metadata": {},
     "output_type": "display_data"
    }
   ],
   "source": [
    "\n",
    "venn2([set_signif_tf, unique_values_cluster], set_labels=('TF signif acts','TF found as hubs by TDA'))"
   ]
  },
  {
   "cell_type": "code",
   "execution_count": null,
   "metadata": {},
   "outputs": [
    {
     "data": {
      "text/plain": [
       "{'Solyc02g090220', 'Solyc06g051840', 'Solyc12g009240'}"
      ]
     },
     "execution_count": 20,
     "metadata": {},
     "output_type": "execute_result"
    }
   ],
   "source": [
    "set_signif_tf.intersection(unique_values_cluster).intersection(hub_signif_tf_set)"
   ]
  },
  {
   "cell_type": "code",
   "execution_count": null,
   "metadata": {},
   "outputs": [
    {
     "data": {
      "text/plain": [
       "{'Solyc02g077840',\n",
       " 'Solyc02g090220',\n",
       " 'Solyc03g093550',\n",
       " 'Solyc04g056310',\n",
       " 'Solyc06g051840',\n",
       " 'Solyc07g054220',\n",
       " 'Solyc07g063420',\n",
       " 'Solyc09g010820',\n",
       " 'Solyc12g009240'}"
      ]
     },
     "execution_count": 21,
     "metadata": {},
     "output_type": "execute_result"
    }
   ],
   "source": [
    "set_signif_tf.intersection(unique_values_cluster)"
   ]
  },
  {
   "cell_type": "code",
   "execution_count": null,
   "metadata": {},
   "outputs": [],
   "source": [
    "tf_by_tda_acts = res_hubs[res_hubs['OLN'].isin(set_signif_tf.intersection(unique_values_cluster))]"
   ]
  },
  {
   "cell_type": "code",
   "execution_count": null,
   "metadata": {},
   "outputs": [],
   "source": [
    "tf_by_tda_acts[['OLN','gene.family','gene.description', 'Groups']].to_csv('./Results_hubs_by_TDA_top2.tsv', sep='\\t', index=False)"
   ]
  },
  {
   "cell_type": "code",
   "execution_count": null,
   "metadata": {},
   "outputs": [
    {
     "data": {
      "text/html": [
       "<div>\n",
       "<style scoped>\n",
       "    .dataframe tbody tr th:only-of-type {\n",
       "        vertical-align: middle;\n",
       "    }\n",
       "\n",
       "    .dataframe tbody tr th {\n",
       "        vertical-align: top;\n",
       "    }\n",
       "\n",
       "    .dataframe thead th {\n",
       "        text-align: right;\n",
       "    }\n",
       "</style>\n",
       "<table border=\"1\" class=\"dataframe\">\n",
       "  <thead>\n",
       "    <tr style=\"text-align: right;\">\n",
       "      <th></th>\n",
       "      <th>OLN</th>\n",
       "      <th>gene.family</th>\n",
       "      <th>gene.description</th>\n",
       "    </tr>\n",
       "  </thead>\n",
       "  <tbody>\n",
       "    <tr>\n",
       "      <th>177</th>\n",
       "      <td>Solyc02g077840</td>\n",
       "      <td>ERF</td>\n",
       "      <td>Ethylene-responsive transcription factor 4 (AH...</td>\n",
       "    </tr>\n",
       "    <tr>\n",
       "      <th>379</th>\n",
       "      <td>Solyc04g056310</td>\n",
       "      <td>MYB</td>\n",
       "      <td>MYB transcription factor (AHRD V3.3 *-* A0A0U3...</td>\n",
       "    </tr>\n",
       "    <tr>\n",
       "      <th>383</th>\n",
       "      <td>Solyc02g090220</td>\n",
       "      <td>Dof</td>\n",
       "      <td>Dof zinc finger protein PBF (AHRD V3.3 *** A0A...</td>\n",
       "    </tr>\n",
       "    <tr>\n",
       "      <th>511</th>\n",
       "      <td>Solyc06g051840</td>\n",
       "      <td>ERF</td>\n",
       "      <td>Solanum lycopersicum Cytokinin Response Factor 6</td>\n",
       "    </tr>\n",
       "    <tr>\n",
       "      <th>557</th>\n",
       "      <td>Solyc03g093550</td>\n",
       "      <td>ERF</td>\n",
       "      <td>Ethylene-responsive transcription factor 5 (AH...</td>\n",
       "    </tr>\n",
       "    <tr>\n",
       "      <th>687</th>\n",
       "      <td>Solyc12g009240</td>\n",
       "      <td>ERF</td>\n",
       "      <td>Ethylene-responsive transcription factor (AHRD...</td>\n",
       "    </tr>\n",
       "    <tr>\n",
       "      <th>775</th>\n",
       "      <td>Solyc07g054220</td>\n",
       "      <td>ERF</td>\n",
       "      <td>Ethylene-responsive transcription factor (AHRD...</td>\n",
       "    </tr>\n",
       "    <tr>\n",
       "      <th>1006</th>\n",
       "      <td>Solyc09g010820</td>\n",
       "      <td>MYB</td>\n",
       "      <td>Myb-related protein 3R.1</td>\n",
       "    </tr>\n",
       "    <tr>\n",
       "      <th>1449</th>\n",
       "      <td>Solyc07g063420</td>\n",
       "      <td>NAC</td>\n",
       "      <td>NAC domain-containing protein (AHRD V3.3 *** A...</td>\n",
       "    </tr>\n",
       "  </tbody>\n",
       "</table>\n",
       "</div>"
      ],
      "text/plain": [
       "                 OLN gene.family  \\\n",
       "177   Solyc02g077840         ERF   \n",
       "379   Solyc04g056310         MYB   \n",
       "383   Solyc02g090220         Dof   \n",
       "511   Solyc06g051840         ERF   \n",
       "557   Solyc03g093550         ERF   \n",
       "687   Solyc12g009240         ERF   \n",
       "775   Solyc07g054220         ERF   \n",
       "1006  Solyc09g010820         MYB   \n",
       "1449  Solyc07g063420         NAC   \n",
       "\n",
       "                                       gene.description  \n",
       "177   Ethylene-responsive transcription factor 4 (AH...  \n",
       "379   MYB transcription factor (AHRD V3.3 *-* A0A0U3...  \n",
       "383   Dof zinc finger protein PBF (AHRD V3.3 *** A0A...  \n",
       "511    Solanum lycopersicum Cytokinin Response Factor 6  \n",
       "557   Ethylene-responsive transcription factor 5 (AH...  \n",
       "687   Ethylene-responsive transcription factor (AHRD...  \n",
       "775   Ethylene-responsive transcription factor (AHRD...  \n",
       "1006                           Myb-related protein 3R.1  \n",
       "1449  NAC domain-containing protein (AHRD V3.3 *** A...  "
      ]
     },
     "execution_count": 24,
     "metadata": {},
     "output_type": "execute_result"
    }
   ],
   "source": [
    "tf_by_tda_acts[['OLN','gene.family','gene.description']]"
   ]
  },
  {
   "cell_type": "code",
   "execution_count": null,
   "metadata": {},
   "outputs": [],
   "source": [
    "tf_by_tda_acts_top1 = pd.read_csv('./Results_hubs_by_TDA.tsv', sep='\\t')"
   ]
  },
  {
   "cell_type": "code",
   "execution_count": null,
   "metadata": {},
   "outputs": [
    {
     "data": {
      "text/html": [
       "<div>\n",
       "<style scoped>\n",
       "    .dataframe tbody tr th:only-of-type {\n",
       "        vertical-align: middle;\n",
       "    }\n",
       "\n",
       "    .dataframe tbody tr th {\n",
       "        vertical-align: top;\n",
       "    }\n",
       "\n",
       "    .dataframe thead th {\n",
       "        text-align: right;\n",
       "    }\n",
       "</style>\n",
       "<table border=\"1\" class=\"dataframe\">\n",
       "  <thead>\n",
       "    <tr style=\"text-align: right;\">\n",
       "      <th></th>\n",
       "      <th>OLN</th>\n",
       "      <th>gene.family</th>\n",
       "      <th>gene.description</th>\n",
       "      <th>Groups</th>\n",
       "    </tr>\n",
       "  </thead>\n",
       "  <tbody>\n",
       "    <tr>\n",
       "      <th>0</th>\n",
       "      <td>Solyc02g077840</td>\n",
       "      <td>ERF</td>\n",
       "      <td>Ethylene-responsive transcription factor 4 (AH...</td>\n",
       "      <td>Pinfestans_pval &amp; Cfulvum_pval &amp; PSTVd_S23_pva...</td>\n",
       "    </tr>\n",
       "    <tr>\n",
       "      <th>1</th>\n",
       "      <td>Solyc04g056310</td>\n",
       "      <td>MYB</td>\n",
       "      <td>MYB transcription factor (AHRD V3.3 *-* A0A0U3...</td>\n",
       "      <td>Pinfestans_pval &amp; Bcinerea_pval</td>\n",
       "    </tr>\n",
       "    <tr>\n",
       "      <th>2</th>\n",
       "      <td>Solyc02g090220</td>\n",
       "      <td>Dof</td>\n",
       "      <td>Dof zinc finger protein PBF (AHRD V3.3 *** A0A...</td>\n",
       "      <td>Pinfestans_pval &amp; Cfulvum_pval &amp; Bcinerea_pval</td>\n",
       "    </tr>\n",
       "    <tr>\n",
       "      <th>3</th>\n",
       "      <td>Solyc06g051840</td>\n",
       "      <td>ERF</td>\n",
       "      <td>Solanum lycopersicum Cytokinin Response Factor 6</td>\n",
       "      <td>Cfulvum_pval &amp; Mincognita_7dpi_pval</td>\n",
       "    </tr>\n",
       "    <tr>\n",
       "      <th>4</th>\n",
       "      <td>Solyc03g093550</td>\n",
       "      <td>ERF</td>\n",
       "      <td>Ethylene-responsive transcription factor 5 (AH...</td>\n",
       "      <td>Cfulvum_pval &amp; Bcinerea_pval &amp; Mincognita_14dp...</td>\n",
       "    </tr>\n",
       "    <tr>\n",
       "      <th>5</th>\n",
       "      <td>Solyc12g009240</td>\n",
       "      <td>ERF</td>\n",
       "      <td>Ethylene-responsive transcription factor (AHRD...</td>\n",
       "      <td>Pinfestans_pval &amp; Bcinerea_pval</td>\n",
       "    </tr>\n",
       "    <tr>\n",
       "      <th>6</th>\n",
       "      <td>Solyc07g054220</td>\n",
       "      <td>ERF</td>\n",
       "      <td>Ethylene-responsive transcription factor (AHRD...</td>\n",
       "      <td>PSTVd_S23_pval &amp; Bcinerea_pval &amp; Mincognita_14...</td>\n",
       "    </tr>\n",
       "    <tr>\n",
       "      <th>7</th>\n",
       "      <td>Solyc09g010820</td>\n",
       "      <td>MYB</td>\n",
       "      <td>Myb-related protein 3R.1</td>\n",
       "      <td>Pinfestans_pval &amp; Cfulvum_pval &amp; PSTVd_S23_pva...</td>\n",
       "    </tr>\n",
       "    <tr>\n",
       "      <th>8</th>\n",
       "      <td>Solyc07g063420</td>\n",
       "      <td>NAC</td>\n",
       "      <td>NAC domain-containing protein (AHRD V3.3 *** A...</td>\n",
       "      <td>Cfulvum_pval &amp; Bcinerea_pval</td>\n",
       "    </tr>\n",
       "  </tbody>\n",
       "</table>\n",
       "</div>"
      ],
      "text/plain": [
       "              OLN gene.family  \\\n",
       "0  Solyc02g077840         ERF   \n",
       "1  Solyc04g056310         MYB   \n",
       "2  Solyc02g090220         Dof   \n",
       "3  Solyc06g051840         ERF   \n",
       "4  Solyc03g093550         ERF   \n",
       "5  Solyc12g009240         ERF   \n",
       "6  Solyc07g054220         ERF   \n",
       "7  Solyc09g010820         MYB   \n",
       "8  Solyc07g063420         NAC   \n",
       "\n",
       "                                    gene.description  \\\n",
       "0  Ethylene-responsive transcription factor 4 (AH...   \n",
       "1  MYB transcription factor (AHRD V3.3 *-* A0A0U3...   \n",
       "2  Dof zinc finger protein PBF (AHRD V3.3 *** A0A...   \n",
       "3   Solanum lycopersicum Cytokinin Response Factor 6   \n",
       "4  Ethylene-responsive transcription factor 5 (AH...   \n",
       "5  Ethylene-responsive transcription factor (AHRD...   \n",
       "6  Ethylene-responsive transcription factor (AHRD...   \n",
       "7                           Myb-related protein 3R.1   \n",
       "8  NAC domain-containing protein (AHRD V3.3 *** A...   \n",
       "\n",
       "                                              Groups  \n",
       "0  Pinfestans_pval & Cfulvum_pval & PSTVd_S23_pva...  \n",
       "1                    Pinfestans_pval & Bcinerea_pval  \n",
       "2     Pinfestans_pval & Cfulvum_pval & Bcinerea_pval  \n",
       "3                Cfulvum_pval & Mincognita_7dpi_pval  \n",
       "4  Cfulvum_pval & Bcinerea_pval & Mincognita_14dp...  \n",
       "5                    Pinfestans_pval & Bcinerea_pval  \n",
       "6  PSTVd_S23_pval & Bcinerea_pval & Mincognita_14...  \n",
       "7  Pinfestans_pval & Cfulvum_pval & PSTVd_S23_pva...  \n",
       "8                       Cfulvum_pval & Bcinerea_pval  "
      ]
     },
     "execution_count": 26,
     "metadata": {},
     "output_type": "execute_result"
    }
   ],
   "source": [
    "tf_by_tda_acts_top1"
   ]
  },
  {
   "cell_type": "code",
   "execution_count": null,
   "metadata": {},
   "outputs": [],
   "source": [
    "set_top1 = set(tf_by_tda_acts_top1['OLN'].unique())"
   ]
  },
  {
   "cell_type": "code",
   "execution_count": null,
   "metadata": {},
   "outputs": [
    {
     "data": {
      "text/plain": [
       "set()"
      ]
     },
     "execution_count": 28,
     "metadata": {},
     "output_type": "execute_result"
    }
   ],
   "source": [
    "set_signif_tf.intersection(unique_values_cluster).difference(set_top1)"
   ]
  },
  {
   "cell_type": "markdown",
   "metadata": {},
   "source": [
    "### Assigning gene to cluster in the results"
   ]
  },
  {
   "cell_type": "code",
   "execution_count": 38,
   "metadata": {},
   "outputs": [],
   "source": [
    "def expand_dataframe(community_dict):\n",
    "    expanded_rows = []\n",
    "    \n",
    "    for gene, communities in community_dict.items():\n",
    "        for community in communities:\n",
    "            expanded_rows.append([gene, community])  # Append as a list of values\n",
    "    \n",
    "    return pd.DataFrame(expanded_rows, columns=['Cluster', 'OLN'])"
   ]
  },
  {
   "cell_type": "code",
   "execution_count": 39,
   "metadata": {},
   "outputs": [],
   "source": [
    "expanded_df = expand_dataframe(community_hubs)"
   ]
  },
  {
   "cell_type": "code",
   "execution_count": 40,
   "metadata": {},
   "outputs": [
    {
     "data": {
      "application/vnd.microsoft.datawrangler.viewer.v0+json": {
       "columns": [
        {
         "name": "index",
         "rawType": "int64",
         "type": "integer"
        },
        {
         "name": "Cluster",
         "rawType": "int64",
         "type": "integer"
        },
        {
         "name": "OLN",
         "rawType": "object",
         "type": "string"
        }
       ],
       "conversionMethod": "pd.DataFrame",
       "ref": "ea452f05-4b3e-45e2-a613-a60452e5b846",
       "rows": [
        [
         "0",
         "0",
         "Solyc02g090220"
        ],
        [
         "1",
         "0",
         "Solyc04g056310"
        ],
        [
         "2",
         "2",
         "Solyc06g051840"
        ],
        [
         "3",
         "3",
         "Solyc07g054220"
        ],
        [
         "4",
         "4",
         "Solyc08g005260"
        ],
        [
         "5",
         "5",
         "Solyc02g077840"
        ],
        [
         "6",
         "6",
         "Solyc08g005260"
        ],
        [
         "7",
         "7",
         "Solyc03g093550"
        ],
        [
         "8",
         "1",
         "Solyc05g007180"
        ],
        [
         "9",
         "8",
         "Solyc02g086930"
        ],
        [
         "10",
         "9",
         "Solyc07g063420"
        ],
        [
         "11",
         "9",
         "Solyc12g009240"
        ],
        [
         "12",
         "18",
         "Solyc07g063420"
        ],
        [
         "13",
         "18",
         "Solyc12g009240"
        ],
        [
         "14",
         "19",
         "Solyc12g009240"
        ],
        [
         "15",
         "19",
         "Solyc10g047640"
        ],
        [
         "16",
         "13",
         "Solyc09g010820"
        ],
        [
         "17",
         "13",
         "Solyc04g082480"
        ],
        [
         "18",
         "17",
         "Solyc07g063420"
        ],
        [
         "19",
         "11",
         "Solyc06g082430"
        ],
        [
         "20",
         "16",
         "Solyc06g082430"
        ],
        [
         "21",
         "16",
         "Solyc10g047640"
        ],
        [
         "22",
         "14",
         "Solyc04g082480"
        ],
        [
         "23",
         "15",
         "Solyc09g010820"
        ]
       ],
       "shape": {
        "columns": 2,
        "rows": 24
       }
      },
      "text/html": [
       "<div>\n",
       "<style scoped>\n",
       "    .dataframe tbody tr th:only-of-type {\n",
       "        vertical-align: middle;\n",
       "    }\n",
       "\n",
       "    .dataframe tbody tr th {\n",
       "        vertical-align: top;\n",
       "    }\n",
       "\n",
       "    .dataframe thead th {\n",
       "        text-align: right;\n",
       "    }\n",
       "</style>\n",
       "<table border=\"1\" class=\"dataframe\">\n",
       "  <thead>\n",
       "    <tr style=\"text-align: right;\">\n",
       "      <th></th>\n",
       "      <th>Cluster</th>\n",
       "      <th>OLN</th>\n",
       "    </tr>\n",
       "  </thead>\n",
       "  <tbody>\n",
       "    <tr>\n",
       "      <th>0</th>\n",
       "      <td>0</td>\n",
       "      <td>Solyc02g090220</td>\n",
       "    </tr>\n",
       "    <tr>\n",
       "      <th>1</th>\n",
       "      <td>0</td>\n",
       "      <td>Solyc04g056310</td>\n",
       "    </tr>\n",
       "    <tr>\n",
       "      <th>2</th>\n",
       "      <td>2</td>\n",
       "      <td>Solyc06g051840</td>\n",
       "    </tr>\n",
       "    <tr>\n",
       "      <th>3</th>\n",
       "      <td>3</td>\n",
       "      <td>Solyc07g054220</td>\n",
       "    </tr>\n",
       "    <tr>\n",
       "      <th>4</th>\n",
       "      <td>4</td>\n",
       "      <td>Solyc08g005260</td>\n",
       "    </tr>\n",
       "    <tr>\n",
       "      <th>5</th>\n",
       "      <td>5</td>\n",
       "      <td>Solyc02g077840</td>\n",
       "    </tr>\n",
       "    <tr>\n",
       "      <th>6</th>\n",
       "      <td>6</td>\n",
       "      <td>Solyc08g005260</td>\n",
       "    </tr>\n",
       "    <tr>\n",
       "      <th>7</th>\n",
       "      <td>7</td>\n",
       "      <td>Solyc03g093550</td>\n",
       "    </tr>\n",
       "    <tr>\n",
       "      <th>8</th>\n",
       "      <td>1</td>\n",
       "      <td>Solyc05g007180</td>\n",
       "    </tr>\n",
       "    <tr>\n",
       "      <th>9</th>\n",
       "      <td>8</td>\n",
       "      <td>Solyc02g086930</td>\n",
       "    </tr>\n",
       "    <tr>\n",
       "      <th>10</th>\n",
       "      <td>9</td>\n",
       "      <td>Solyc07g063420</td>\n",
       "    </tr>\n",
       "    <tr>\n",
       "      <th>11</th>\n",
       "      <td>9</td>\n",
       "      <td>Solyc12g009240</td>\n",
       "    </tr>\n",
       "    <tr>\n",
       "      <th>12</th>\n",
       "      <td>18</td>\n",
       "      <td>Solyc07g063420</td>\n",
       "    </tr>\n",
       "    <tr>\n",
       "      <th>13</th>\n",
       "      <td>18</td>\n",
       "      <td>Solyc12g009240</td>\n",
       "    </tr>\n",
       "    <tr>\n",
       "      <th>14</th>\n",
       "      <td>19</td>\n",
       "      <td>Solyc12g009240</td>\n",
       "    </tr>\n",
       "    <tr>\n",
       "      <th>15</th>\n",
       "      <td>19</td>\n",
       "      <td>Solyc10g047640</td>\n",
       "    </tr>\n",
       "    <tr>\n",
       "      <th>16</th>\n",
       "      <td>13</td>\n",
       "      <td>Solyc09g010820</td>\n",
       "    </tr>\n",
       "    <tr>\n",
       "      <th>17</th>\n",
       "      <td>13</td>\n",
       "      <td>Solyc04g082480</td>\n",
       "    </tr>\n",
       "    <tr>\n",
       "      <th>18</th>\n",
       "      <td>17</td>\n",
       "      <td>Solyc07g063420</td>\n",
       "    </tr>\n",
       "    <tr>\n",
       "      <th>19</th>\n",
       "      <td>11</td>\n",
       "      <td>Solyc06g082430</td>\n",
       "    </tr>\n",
       "    <tr>\n",
       "      <th>20</th>\n",
       "      <td>16</td>\n",
       "      <td>Solyc06g082430</td>\n",
       "    </tr>\n",
       "    <tr>\n",
       "      <th>21</th>\n",
       "      <td>16</td>\n",
       "      <td>Solyc10g047640</td>\n",
       "    </tr>\n",
       "    <tr>\n",
       "      <th>22</th>\n",
       "      <td>14</td>\n",
       "      <td>Solyc04g082480</td>\n",
       "    </tr>\n",
       "    <tr>\n",
       "      <th>23</th>\n",
       "      <td>15</td>\n",
       "      <td>Solyc09g010820</td>\n",
       "    </tr>\n",
       "  </tbody>\n",
       "</table>\n",
       "</div>"
      ],
      "text/plain": [
       "    Cluster             OLN\n",
       "0         0  Solyc02g090220\n",
       "1         0  Solyc04g056310\n",
       "2         2  Solyc06g051840\n",
       "3         3  Solyc07g054220\n",
       "4         4  Solyc08g005260\n",
       "5         5  Solyc02g077840\n",
       "6         6  Solyc08g005260\n",
       "7         7  Solyc03g093550\n",
       "8         1  Solyc05g007180\n",
       "9         8  Solyc02g086930\n",
       "10        9  Solyc07g063420\n",
       "11        9  Solyc12g009240\n",
       "12       18  Solyc07g063420\n",
       "13       18  Solyc12g009240\n",
       "14       19  Solyc12g009240\n",
       "15       19  Solyc10g047640\n",
       "16       13  Solyc09g010820\n",
       "17       13  Solyc04g082480\n",
       "18       17  Solyc07g063420\n",
       "19       11  Solyc06g082430\n",
       "20       16  Solyc06g082430\n",
       "21       16  Solyc10g047640\n",
       "22       14  Solyc04g082480\n",
       "23       15  Solyc09g010820"
      ]
     },
     "execution_count": 40,
     "metadata": {},
     "output_type": "execute_result"
    }
   ],
   "source": [
    "expanded_df"
   ]
  },
  {
   "cell_type": "code",
   "execution_count": 41,
   "metadata": {},
   "outputs": [],
   "source": [
    "expand_res_hubs = pd.merge(res_hubs,expanded_df, on='OLN', how='right')"
   ]
  },
  {
   "cell_type": "code",
   "execution_count": 42,
   "metadata": {},
   "outputs": [
    {
     "data": {
      "text/plain": [
       "(15,)"
      ]
     },
     "execution_count": 42,
     "metadata": {},
     "output_type": "execute_result"
    }
   ],
   "source": [
    "expand_res_hubs['OLN'].unique().shape"
   ]
  },
  {
   "cell_type": "code",
   "execution_count": 43,
   "metadata": {},
   "outputs": [],
   "source": [
    "#expand_res_hubs.to_csv('Results_hubs_with_TDA_cluster.txt', sep='\\t', index=False)"
   ]
  },
  {
   "cell_type": "code",
   "execution_count": 44,
   "metadata": {},
   "outputs": [
    {
     "ename": "FileNotFoundError",
     "evalue": "[Errno 2] No such file or directory: './TFs_to_clusters_TDA.tsv'",
     "output_type": "error",
     "traceback": [
      "\u001b[0;31m---------------------------------------------------------------------------\u001b[0m",
      "\u001b[0;31mFileNotFoundError\u001b[0m                         Traceback (most recent call last)",
      "Cell \u001b[0;32mIn[44], line 1\u001b[0m\n\u001b[0;32m----> 1\u001b[0m TF_2_cluster \u001b[38;5;241m=\u001b[39m \u001b[43mpd\u001b[49m\u001b[38;5;241;43m.\u001b[39;49m\u001b[43mread_csv\u001b[49m\u001b[43m(\u001b[49m\u001b[38;5;124;43m'\u001b[39;49m\u001b[38;5;124;43m./TFs_to_clusters_TDA.tsv\u001b[39;49m\u001b[38;5;124;43m'\u001b[39;49m\u001b[43m,\u001b[49m\u001b[43m \u001b[49m\u001b[43msep\u001b[49m\u001b[38;5;241;43m=\u001b[39;49m\u001b[38;5;124;43m'\u001b[39;49m\u001b[38;5;130;43;01m\\t\u001b[39;49;00m\u001b[38;5;124;43m'\u001b[39;49m\u001b[43m)\u001b[49m\n\u001b[1;32m      2\u001b[0m TF_2_cluster\u001b[38;5;241m.\u001b[39mrename(columns\u001b[38;5;241m=\u001b[39m{\u001b[38;5;124m'\u001b[39m\u001b[38;5;124mGene\u001b[39m\u001b[38;5;124m'\u001b[39m:\u001b[38;5;124m'\u001b[39m\u001b[38;5;124mOLN\u001b[39m\u001b[38;5;124m'\u001b[39m}, inplace\u001b[38;5;241m=\u001b[39m\u001b[38;5;28;01mTrue\u001b[39;00m)\n",
      "File \u001b[0;32m~/miniconda3/envs/GRN/lib/python3.12/site-packages/pandas/io/parsers/readers.py:1026\u001b[0m, in \u001b[0;36mread_csv\u001b[0;34m(filepath_or_buffer, sep, delimiter, header, names, index_col, usecols, dtype, engine, converters, true_values, false_values, skipinitialspace, skiprows, skipfooter, nrows, na_values, keep_default_na, na_filter, verbose, skip_blank_lines, parse_dates, infer_datetime_format, keep_date_col, date_parser, date_format, dayfirst, cache_dates, iterator, chunksize, compression, thousands, decimal, lineterminator, quotechar, quoting, doublequote, escapechar, comment, encoding, encoding_errors, dialect, on_bad_lines, delim_whitespace, low_memory, memory_map, float_precision, storage_options, dtype_backend)\u001b[0m\n\u001b[1;32m   1013\u001b[0m kwds_defaults \u001b[38;5;241m=\u001b[39m _refine_defaults_read(\n\u001b[1;32m   1014\u001b[0m     dialect,\n\u001b[1;32m   1015\u001b[0m     delimiter,\n\u001b[0;32m   (...)\u001b[0m\n\u001b[1;32m   1022\u001b[0m     dtype_backend\u001b[38;5;241m=\u001b[39mdtype_backend,\n\u001b[1;32m   1023\u001b[0m )\n\u001b[1;32m   1024\u001b[0m kwds\u001b[38;5;241m.\u001b[39mupdate(kwds_defaults)\n\u001b[0;32m-> 1026\u001b[0m \u001b[38;5;28;01mreturn\u001b[39;00m \u001b[43m_read\u001b[49m\u001b[43m(\u001b[49m\u001b[43mfilepath_or_buffer\u001b[49m\u001b[43m,\u001b[49m\u001b[43m \u001b[49m\u001b[43mkwds\u001b[49m\u001b[43m)\u001b[49m\n",
      "File \u001b[0;32m~/miniconda3/envs/GRN/lib/python3.12/site-packages/pandas/io/parsers/readers.py:620\u001b[0m, in \u001b[0;36m_read\u001b[0;34m(filepath_or_buffer, kwds)\u001b[0m\n\u001b[1;32m    617\u001b[0m _validate_names(kwds\u001b[38;5;241m.\u001b[39mget(\u001b[38;5;124m\"\u001b[39m\u001b[38;5;124mnames\u001b[39m\u001b[38;5;124m\"\u001b[39m, \u001b[38;5;28;01mNone\u001b[39;00m))\n\u001b[1;32m    619\u001b[0m \u001b[38;5;66;03m# Create the parser.\u001b[39;00m\n\u001b[0;32m--> 620\u001b[0m parser \u001b[38;5;241m=\u001b[39m \u001b[43mTextFileReader\u001b[49m\u001b[43m(\u001b[49m\u001b[43mfilepath_or_buffer\u001b[49m\u001b[43m,\u001b[49m\u001b[43m \u001b[49m\u001b[38;5;241;43m*\u001b[39;49m\u001b[38;5;241;43m*\u001b[39;49m\u001b[43mkwds\u001b[49m\u001b[43m)\u001b[49m\n\u001b[1;32m    622\u001b[0m \u001b[38;5;28;01mif\u001b[39;00m chunksize \u001b[38;5;129;01mor\u001b[39;00m iterator:\n\u001b[1;32m    623\u001b[0m     \u001b[38;5;28;01mreturn\u001b[39;00m parser\n",
      "File \u001b[0;32m~/miniconda3/envs/GRN/lib/python3.12/site-packages/pandas/io/parsers/readers.py:1620\u001b[0m, in \u001b[0;36mTextFileReader.__init__\u001b[0;34m(self, f, engine, **kwds)\u001b[0m\n\u001b[1;32m   1617\u001b[0m     \u001b[38;5;28mself\u001b[39m\u001b[38;5;241m.\u001b[39moptions[\u001b[38;5;124m\"\u001b[39m\u001b[38;5;124mhas_index_names\u001b[39m\u001b[38;5;124m\"\u001b[39m] \u001b[38;5;241m=\u001b[39m kwds[\u001b[38;5;124m\"\u001b[39m\u001b[38;5;124mhas_index_names\u001b[39m\u001b[38;5;124m\"\u001b[39m]\n\u001b[1;32m   1619\u001b[0m \u001b[38;5;28mself\u001b[39m\u001b[38;5;241m.\u001b[39mhandles: IOHandles \u001b[38;5;241m|\u001b[39m \u001b[38;5;28;01mNone\u001b[39;00m \u001b[38;5;241m=\u001b[39m \u001b[38;5;28;01mNone\u001b[39;00m\n\u001b[0;32m-> 1620\u001b[0m \u001b[38;5;28mself\u001b[39m\u001b[38;5;241m.\u001b[39m_engine \u001b[38;5;241m=\u001b[39m \u001b[38;5;28;43mself\u001b[39;49m\u001b[38;5;241;43m.\u001b[39;49m\u001b[43m_make_engine\u001b[49m\u001b[43m(\u001b[49m\u001b[43mf\u001b[49m\u001b[43m,\u001b[49m\u001b[43m \u001b[49m\u001b[38;5;28;43mself\u001b[39;49m\u001b[38;5;241;43m.\u001b[39;49m\u001b[43mengine\u001b[49m\u001b[43m)\u001b[49m\n",
      "File \u001b[0;32m~/miniconda3/envs/GRN/lib/python3.12/site-packages/pandas/io/parsers/readers.py:1880\u001b[0m, in \u001b[0;36mTextFileReader._make_engine\u001b[0;34m(self, f, engine)\u001b[0m\n\u001b[1;32m   1878\u001b[0m     \u001b[38;5;28;01mif\u001b[39;00m \u001b[38;5;124m\"\u001b[39m\u001b[38;5;124mb\u001b[39m\u001b[38;5;124m\"\u001b[39m \u001b[38;5;129;01mnot\u001b[39;00m \u001b[38;5;129;01min\u001b[39;00m mode:\n\u001b[1;32m   1879\u001b[0m         mode \u001b[38;5;241m+\u001b[39m\u001b[38;5;241m=\u001b[39m \u001b[38;5;124m\"\u001b[39m\u001b[38;5;124mb\u001b[39m\u001b[38;5;124m\"\u001b[39m\n\u001b[0;32m-> 1880\u001b[0m \u001b[38;5;28mself\u001b[39m\u001b[38;5;241m.\u001b[39mhandles \u001b[38;5;241m=\u001b[39m \u001b[43mget_handle\u001b[49m\u001b[43m(\u001b[49m\n\u001b[1;32m   1881\u001b[0m \u001b[43m    \u001b[49m\u001b[43mf\u001b[49m\u001b[43m,\u001b[49m\n\u001b[1;32m   1882\u001b[0m \u001b[43m    \u001b[49m\u001b[43mmode\u001b[49m\u001b[43m,\u001b[49m\n\u001b[1;32m   1883\u001b[0m \u001b[43m    \u001b[49m\u001b[43mencoding\u001b[49m\u001b[38;5;241;43m=\u001b[39;49m\u001b[38;5;28;43mself\u001b[39;49m\u001b[38;5;241;43m.\u001b[39;49m\u001b[43moptions\u001b[49m\u001b[38;5;241;43m.\u001b[39;49m\u001b[43mget\u001b[49m\u001b[43m(\u001b[49m\u001b[38;5;124;43m\"\u001b[39;49m\u001b[38;5;124;43mencoding\u001b[39;49m\u001b[38;5;124;43m\"\u001b[39;49m\u001b[43m,\u001b[49m\u001b[43m \u001b[49m\u001b[38;5;28;43;01mNone\u001b[39;49;00m\u001b[43m)\u001b[49m\u001b[43m,\u001b[49m\n\u001b[1;32m   1884\u001b[0m \u001b[43m    \u001b[49m\u001b[43mcompression\u001b[49m\u001b[38;5;241;43m=\u001b[39;49m\u001b[38;5;28;43mself\u001b[39;49m\u001b[38;5;241;43m.\u001b[39;49m\u001b[43moptions\u001b[49m\u001b[38;5;241;43m.\u001b[39;49m\u001b[43mget\u001b[49m\u001b[43m(\u001b[49m\u001b[38;5;124;43m\"\u001b[39;49m\u001b[38;5;124;43mcompression\u001b[39;49m\u001b[38;5;124;43m\"\u001b[39;49m\u001b[43m,\u001b[49m\u001b[43m \u001b[49m\u001b[38;5;28;43;01mNone\u001b[39;49;00m\u001b[43m)\u001b[49m\u001b[43m,\u001b[49m\n\u001b[1;32m   1885\u001b[0m \u001b[43m    \u001b[49m\u001b[43mmemory_map\u001b[49m\u001b[38;5;241;43m=\u001b[39;49m\u001b[38;5;28;43mself\u001b[39;49m\u001b[38;5;241;43m.\u001b[39;49m\u001b[43moptions\u001b[49m\u001b[38;5;241;43m.\u001b[39;49m\u001b[43mget\u001b[49m\u001b[43m(\u001b[49m\u001b[38;5;124;43m\"\u001b[39;49m\u001b[38;5;124;43mmemory_map\u001b[39;49m\u001b[38;5;124;43m\"\u001b[39;49m\u001b[43m,\u001b[49m\u001b[43m \u001b[49m\u001b[38;5;28;43;01mFalse\u001b[39;49;00m\u001b[43m)\u001b[49m\u001b[43m,\u001b[49m\n\u001b[1;32m   1886\u001b[0m \u001b[43m    \u001b[49m\u001b[43mis_text\u001b[49m\u001b[38;5;241;43m=\u001b[39;49m\u001b[43mis_text\u001b[49m\u001b[43m,\u001b[49m\n\u001b[1;32m   1887\u001b[0m \u001b[43m    \u001b[49m\u001b[43merrors\u001b[49m\u001b[38;5;241;43m=\u001b[39;49m\u001b[38;5;28;43mself\u001b[39;49m\u001b[38;5;241;43m.\u001b[39;49m\u001b[43moptions\u001b[49m\u001b[38;5;241;43m.\u001b[39;49m\u001b[43mget\u001b[49m\u001b[43m(\u001b[49m\u001b[38;5;124;43m\"\u001b[39;49m\u001b[38;5;124;43mencoding_errors\u001b[39;49m\u001b[38;5;124;43m\"\u001b[39;49m\u001b[43m,\u001b[49m\u001b[43m \u001b[49m\u001b[38;5;124;43m\"\u001b[39;49m\u001b[38;5;124;43mstrict\u001b[39;49m\u001b[38;5;124;43m\"\u001b[39;49m\u001b[43m)\u001b[49m\u001b[43m,\u001b[49m\n\u001b[1;32m   1888\u001b[0m \u001b[43m    \u001b[49m\u001b[43mstorage_options\u001b[49m\u001b[38;5;241;43m=\u001b[39;49m\u001b[38;5;28;43mself\u001b[39;49m\u001b[38;5;241;43m.\u001b[39;49m\u001b[43moptions\u001b[49m\u001b[38;5;241;43m.\u001b[39;49m\u001b[43mget\u001b[49m\u001b[43m(\u001b[49m\u001b[38;5;124;43m\"\u001b[39;49m\u001b[38;5;124;43mstorage_options\u001b[39;49m\u001b[38;5;124;43m\"\u001b[39;49m\u001b[43m,\u001b[49m\u001b[43m \u001b[49m\u001b[38;5;28;43;01mNone\u001b[39;49;00m\u001b[43m)\u001b[49m\u001b[43m,\u001b[49m\n\u001b[1;32m   1889\u001b[0m \u001b[43m\u001b[49m\u001b[43m)\u001b[49m\n\u001b[1;32m   1890\u001b[0m \u001b[38;5;28;01massert\u001b[39;00m \u001b[38;5;28mself\u001b[39m\u001b[38;5;241m.\u001b[39mhandles \u001b[38;5;129;01mis\u001b[39;00m \u001b[38;5;129;01mnot\u001b[39;00m \u001b[38;5;28;01mNone\u001b[39;00m\n\u001b[1;32m   1891\u001b[0m f \u001b[38;5;241m=\u001b[39m \u001b[38;5;28mself\u001b[39m\u001b[38;5;241m.\u001b[39mhandles\u001b[38;5;241m.\u001b[39mhandle\n",
      "File \u001b[0;32m~/miniconda3/envs/GRN/lib/python3.12/site-packages/pandas/io/common.py:873\u001b[0m, in \u001b[0;36mget_handle\u001b[0;34m(path_or_buf, mode, encoding, compression, memory_map, is_text, errors, storage_options)\u001b[0m\n\u001b[1;32m    868\u001b[0m \u001b[38;5;28;01melif\u001b[39;00m \u001b[38;5;28misinstance\u001b[39m(handle, \u001b[38;5;28mstr\u001b[39m):\n\u001b[1;32m    869\u001b[0m     \u001b[38;5;66;03m# Check whether the filename is to be opened in binary mode.\u001b[39;00m\n\u001b[1;32m    870\u001b[0m     \u001b[38;5;66;03m# Binary mode does not support 'encoding' and 'newline'.\u001b[39;00m\n\u001b[1;32m    871\u001b[0m     \u001b[38;5;28;01mif\u001b[39;00m ioargs\u001b[38;5;241m.\u001b[39mencoding \u001b[38;5;129;01mand\u001b[39;00m \u001b[38;5;124m\"\u001b[39m\u001b[38;5;124mb\u001b[39m\u001b[38;5;124m\"\u001b[39m \u001b[38;5;129;01mnot\u001b[39;00m \u001b[38;5;129;01min\u001b[39;00m ioargs\u001b[38;5;241m.\u001b[39mmode:\n\u001b[1;32m    872\u001b[0m         \u001b[38;5;66;03m# Encoding\u001b[39;00m\n\u001b[0;32m--> 873\u001b[0m         handle \u001b[38;5;241m=\u001b[39m \u001b[38;5;28;43mopen\u001b[39;49m\u001b[43m(\u001b[49m\n\u001b[1;32m    874\u001b[0m \u001b[43m            \u001b[49m\u001b[43mhandle\u001b[49m\u001b[43m,\u001b[49m\n\u001b[1;32m    875\u001b[0m \u001b[43m            \u001b[49m\u001b[43mioargs\u001b[49m\u001b[38;5;241;43m.\u001b[39;49m\u001b[43mmode\u001b[49m\u001b[43m,\u001b[49m\n\u001b[1;32m    876\u001b[0m \u001b[43m            \u001b[49m\u001b[43mencoding\u001b[49m\u001b[38;5;241;43m=\u001b[39;49m\u001b[43mioargs\u001b[49m\u001b[38;5;241;43m.\u001b[39;49m\u001b[43mencoding\u001b[49m\u001b[43m,\u001b[49m\n\u001b[1;32m    877\u001b[0m \u001b[43m            \u001b[49m\u001b[43merrors\u001b[49m\u001b[38;5;241;43m=\u001b[39;49m\u001b[43merrors\u001b[49m\u001b[43m,\u001b[49m\n\u001b[1;32m    878\u001b[0m \u001b[43m            \u001b[49m\u001b[43mnewline\u001b[49m\u001b[38;5;241;43m=\u001b[39;49m\u001b[38;5;124;43m\"\u001b[39;49m\u001b[38;5;124;43m\"\u001b[39;49m\u001b[43m,\u001b[49m\n\u001b[1;32m    879\u001b[0m \u001b[43m        \u001b[49m\u001b[43m)\u001b[49m\n\u001b[1;32m    880\u001b[0m     \u001b[38;5;28;01melse\u001b[39;00m:\n\u001b[1;32m    881\u001b[0m         \u001b[38;5;66;03m# Binary mode\u001b[39;00m\n\u001b[1;32m    882\u001b[0m         handle \u001b[38;5;241m=\u001b[39m \u001b[38;5;28mopen\u001b[39m(handle, ioargs\u001b[38;5;241m.\u001b[39mmode)\n",
      "\u001b[0;31mFileNotFoundError\u001b[0m: [Errno 2] No such file or directory: './TFs_to_clusters_TDA.tsv'"
     ]
    }
   ],
   "source": [
    "TF_2_cluster = pd.read_csv('./TFs_to_clusters_TDA.tsv', sep='\\t')\n",
    "TF_2_cluster.rename(columns={'Gene':'OLN'}, inplace=True)"
   ]
  },
  {
   "cell_type": "code",
   "execution_count": null,
   "metadata": {},
   "outputs": [],
   "source": [
    "import ast\n",
    "TF_2_cluster['Clusters'] = TF_2_cluster['Clusters'].apply(ast.literal_eval)\n",
    "expand_dataframe_TF_2_cluster = TF_2_cluster.explode('Clusters').reset_index(drop=True)"
   ]
  },
  {
   "cell_type": "code",
   "execution_count": null,
   "metadata": {},
   "outputs": [],
   "source": [
    "expand_res = pd.merge(res_hubs,expand_dataframe_TF_2_cluster, on='OLN', how='right')"
   ]
  },
  {
   "cell_type": "code",
   "execution_count": null,
   "metadata": {},
   "outputs": [
    {
     "data": {
      "text/plain": [
       "(71,)"
      ]
     },
     "execution_count": 38,
     "metadata": {},
     "output_type": "execute_result"
    }
   ],
   "source": [
    "expand_res['OLN'].unique().shape"
   ]
  },
  {
   "cell_type": "code",
   "execution_count": null,
   "metadata": {},
   "outputs": [],
   "source": [
    "#expand_res.to_csv('Results_with_TDA_cluster.txt', sep='\\t', index=False)"
   ]
  },
  {
   "cell_type": "markdown",
   "metadata": {},
   "source": [
    "*********"
   ]
  },
  {
   "cell_type": "markdown",
   "metadata": {},
   "source": [
    "### Hub by grouping similar cluster"
   ]
  },
  {
   "cell_type": "markdown",
   "metadata": {},
   "source": [
    "Thanks to the adjacency plots, we identified 4 mega clusters defined as :\n",
    "- 1 - 0+2+3+5 (multiple shared)\n",
    "- 2 - 7+19 (spe shared)\n",
    "- 3 - 18+9+13+17 (multiple exclusif)\n",
    "- 4 - 11 (spe exclusif)"
   ]
  },
  {
   "cell_type": "markdown",
   "metadata": {},
   "source": [
    "We can identifed hubs on these mega clusters"
   ]
  },
  {
   "cell_type": "code",
   "execution_count": 17,
   "metadata": {},
   "outputs": [
    {
     "name": "stdout",
     "output_type": "stream",
     "text": [
      "Community - Hub Nodes:\n",
      "Community 1: Hubs ['Solyc07g054220', 'Solyc06g051840']\n",
      "Community 2: Hubs ['Solyc03g093550']\n",
      "Community 3: Hubs ['Solyc06g082430', 'Solyc07g063420']\n",
      "Community 4: Hubs ['Solyc12g009240', 'Solyc10g047640']\n"
     ]
    }
   ],
   "source": [
    "custom_cluster = {1: [0,2,3,5],\n",
    "                  2: [7],\n",
    "                  3: [9,18,13,15,17,11],\n",
    "                  4: [19]}\n",
    "# Dictionary to store community and corresponding hub nodes\n",
    "community_hubs = {}\n",
    "# Dictionary to store centrality values for each node\n",
    "node_centrality = {}\n",
    "edge_counts = {}\n",
    "nodes_counts = {}\n",
    "## Save the TFs in each mega cluster\n",
    "TF_in_mega_cluster_saved = {}\n",
    "# Iterate through communities\n",
    "for community_id in custom_cluster:\n",
    "    \n",
    "    TF_in_mega_cluster = mapper_cluster[mapper_cluster['Value'].isin(custom_cluster[community_id])]['Gene'].unique() # Find unique TF in the mega cluster\n",
    "    TF_in_mega_cluster_saved[community_id] = TF_in_mega_cluster\n",
    "    sub_cGRN = cGRN[(cGRN['TF'].isin(TF_in_mega_cluster))] # Retrieve the subGRN composed of the TF in the mega cluster\n",
    "    subgraph = ig.Graph.TupleList(sub_cGRN[['TF', 'Target_Gene']].itertuples(index=False), directed=True) #create the subgraph\n",
    "    nodes_counts[community_id] = subgraph.vcount()\n",
    "    edge_counts[community_id] = subgraph.ecount()\n",
    "\n",
    "    # Compute centrality measures for nodes in the community subgraph\n",
    "    degree_centrality = subgraph.degree()\n",
    "    betweenness_centrality = subgraph.betweenness(directed=True)\n",
    "\n",
    "    # Find top two nodes for degree centrality\n",
    "    degree_centrality_with_names = [(subgraph.vs[node][\"name\"], centrality) for node, centrality in enumerate(degree_centrality)]\n",
    "    degree_centrality_with_names.sort(key=lambda x: x[1], reverse=True)\n",
    "\n",
    "    max_degree_nodes = degree_centrality_with_names[:1]  # Top 2 nodes\n",
    "    max_degree_nodes = [node[0] for node in max_degree_nodes]  # Extract names\n",
    "\n",
    "    # Find top two nodes for betweenness centrality\n",
    "    betweenness_centrality_with_names = [(subgraph.vs[node][\"name\"], centrality) for node, centrality in enumerate(betweenness_centrality)]\n",
    "    betweenness_centrality_with_names.sort(key=lambda x: x[1], reverse=True)\n",
    "\n",
    "    max_betweenness_nodes = betweenness_centrality_with_names[:1]  # Top 2 nodes\n",
    "    max_betweenness_nodes = [node[0] for node in max_betweenness_nodes if node[1] > 0]  # Exclude zero centrality\n",
    "\n",
    "    # Combine all nodes with the highest centrality values\n",
    "    hub_nodes = list(set(max_degree_nodes + max_betweenness_nodes))\n",
    "\n",
    "    # Store the hub nodes for the community\n",
    "    community_hubs[community_id] = hub_nodes\n",
    "\n",
    "    # Update node_centrality dictionary with centrality values for nodes in the community\n",
    "    for node_index, node_name in enumerate(subgraph.vs[\"name\"]):\n",
    "        node_centrality.setdefault(node_name, {}).update({\n",
    "            \"Degree Centrality\": degree_centrality[node_index],\n",
    "            \"Betweenness Centrality\": betweenness_centrality[node_index],\n",
    "        })\n",
    "\n",
    "# Print the dictionary of community and corresponding hub nodes\n",
    "print(\"Community - Hub Nodes:\")\n",
    "for community, hub_nodes in community_hubs.items():\n",
    "    print(f\"Community {community}: Hubs {hub_nodes}\")"
   ]
  },
  {
   "cell_type": "code",
   "execution_count": 18,
   "metadata": {},
   "outputs": [],
   "source": [
    "df = pd.DataFrame([(key, value) for key, values in TF_in_mega_cluster_saved.items() for value in values],\n",
    "                  columns=['Mega_Cluster', 'TF'])"
   ]
  },
  {
   "cell_type": "code",
   "execution_count": 48,
   "metadata": {},
   "outputs": [],
   "source": [
    "# df.to_csv('TF_in_mega_cluster.tsv', sep='\\t', index=False)"
   ]
  },
  {
   "cell_type": "markdown",
   "metadata": {},
   "source": [
    "Compare with activity"
   ]
  },
  {
   "cell_type": "code",
   "execution_count": 28,
   "metadata": {},
   "outputs": [],
   "source": [
    "def expand_dataframe(community_dict):\n",
    "    expanded_rows = []\n",
    "    \n",
    "    for gene, communities in community_dict.items():\n",
    "        for community in communities:\n",
    "            expanded_rows.append([gene, community])  # Append as a list of values\n",
    "    \n",
    "    return pd.DataFrame(expanded_rows, columns=['Cluster', 'OLN'])"
   ]
  },
  {
   "cell_type": "code",
   "execution_count": 23,
   "metadata": {},
   "outputs": [],
   "source": [
    "res_hubs = pd.read_csv('../Results_hubs_activity_stats.tsv',sep='\\t')"
   ]
  },
  {
   "cell_type": "code",
   "execution_count": 20,
   "metadata": {},
   "outputs": [],
   "source": [
    "pd.set_option('display.max_colwidth', None)"
   ]
  },
  {
   "cell_type": "code",
   "execution_count": 21,
   "metadata": {},
   "outputs": [],
   "source": [
    "Hubs_mega_cluster = [TF for TFs in community_hubs.values() for TF in TFs]"
   ]
  },
  {
   "cell_type": "code",
   "execution_count": 24,
   "metadata": {},
   "outputs": [],
   "source": [
    "res_mega_cluster = res_hubs[res_hubs['OLN'].isin(Hubs_mega_cluster)][['OLN','Groups', 'gene.description', 'gene.family']]"
   ]
  },
  {
   "cell_type": "code",
   "execution_count": 25,
   "metadata": {},
   "outputs": [
    {
     "data": {
      "text/plain": [
       "['Solyc03g093550',\n",
       " 'Solyc06g051840',\n",
       " 'Solyc07g054220',\n",
       " 'Solyc07g063420',\n",
       " 'Solyc12g009240']"
      ]
     },
     "execution_count": 25,
     "metadata": {},
     "output_type": "execute_result"
    }
   ],
   "source": [
    "res_mega_cluster[~res_mega_cluster['Groups'].isna()]['OLN'].to_list()"
   ]
  },
  {
   "cell_type": "code",
   "execution_count": 29,
   "metadata": {},
   "outputs": [],
   "source": [
    "expanded_df = expand_dataframe(community_hubs)"
   ]
  },
  {
   "cell_type": "code",
   "execution_count": 31,
   "metadata": {},
   "outputs": [],
   "source": [
    "res_comm = pd.merge(res_mega_cluster,expanded_df, on='OLN', how='right')"
   ]
  },
  {
   "cell_type": "code",
   "execution_count": 32,
   "metadata": {},
   "outputs": [],
   "source": [
    "res_comm = res_comm[~res_comm['Groups'].isna()]"
   ]
  },
  {
   "cell_type": "code",
   "execution_count": 33,
   "metadata": {},
   "outputs": [],
   "source": [
    "res_comm.rename(columns={'Cluster':'Mega_Cluster'}, inplace=True)"
   ]
  },
  {
   "cell_type": "code",
   "execution_count": 34,
   "metadata": {},
   "outputs": [
    {
     "data": {
      "application/vnd.microsoft.datawrangler.viewer.v0+json": {
       "columns": [
        {
         "name": "index",
         "rawType": "int64",
         "type": "integer"
        },
        {
         "name": "OLN",
         "rawType": "object",
         "type": "string"
        },
        {
         "name": "Groups",
         "rawType": "object",
         "type": "string"
        },
        {
         "name": "gene.description",
         "rawType": "object",
         "type": "string"
        },
        {
         "name": "gene.family",
         "rawType": "object",
         "type": "string"
        },
        {
         "name": "Mega_Cluster",
         "rawType": "int64",
         "type": "integer"
        }
       ],
       "conversionMethod": "pd.DataFrame",
       "ref": "47abf778-4bc2-475c-9027-128541804b5d",
       "rows": [
        [
         "0",
         "Solyc07g054220",
         "PSTVd_S23_pval & Bcinerea_pval & Mincognita_14dpi_pval",
         "Ethylene-responsive transcription factor (AHRD V3.3 *** A0A2G3C0R2_CAPCH)",
         "ERF",
         "1"
        ],
        [
         "1",
         "Solyc06g051840",
         "Cfulvum_pval",
         "Solanum lycopersicum Cytokinin Response Factor 6",
         "ERF",
         "1"
        ],
        [
         "2",
         "Solyc03g093550",
         "Bcinerea_pval & Mincognita_14dpi_pval",
         "Ethylene-responsive transcription factor 5 (AHRD V3.3 *** A0A2G3CVP7_CAPCH)",
         "ERF",
         "2"
        ],
        [
         "4",
         "Solyc07g063420",
         "Cfulvum_pval & Bcinerea_pval",
         "NAC domain-containing protein (AHRD V3.3 *** A0A2U1LQQ4_ARTAN)",
         "NAC",
         "3"
        ],
        [
         "5",
         "Solyc12g009240",
         "Bcinerea_pval",
         "Ethylene-responsive transcription factor (AHRD V3.3 *-* A0A2G3BP26_CAPCH)",
         "ERF",
         "4"
        ]
       ],
       "shape": {
        "columns": 5,
        "rows": 5
       }
      },
      "text/html": [
       "<div>\n",
       "<style scoped>\n",
       "    .dataframe tbody tr th:only-of-type {\n",
       "        vertical-align: middle;\n",
       "    }\n",
       "\n",
       "    .dataframe tbody tr th {\n",
       "        vertical-align: top;\n",
       "    }\n",
       "\n",
       "    .dataframe thead th {\n",
       "        text-align: right;\n",
       "    }\n",
       "</style>\n",
       "<table border=\"1\" class=\"dataframe\">\n",
       "  <thead>\n",
       "    <tr style=\"text-align: right;\">\n",
       "      <th></th>\n",
       "      <th>OLN</th>\n",
       "      <th>Groups</th>\n",
       "      <th>gene.description</th>\n",
       "      <th>gene.family</th>\n",
       "      <th>Mega_Cluster</th>\n",
       "    </tr>\n",
       "  </thead>\n",
       "  <tbody>\n",
       "    <tr>\n",
       "      <th>0</th>\n",
       "      <td>Solyc07g054220</td>\n",
       "      <td>PSTVd_S23_pval &amp; Bcinerea_pval &amp; Mincognita_14dpi_pval</td>\n",
       "      <td>Ethylene-responsive transcription factor (AHRD V3.3 *** A0A2G3C0R2_CAPCH)</td>\n",
       "      <td>ERF</td>\n",
       "      <td>1</td>\n",
       "    </tr>\n",
       "    <tr>\n",
       "      <th>1</th>\n",
       "      <td>Solyc06g051840</td>\n",
       "      <td>Cfulvum_pval</td>\n",
       "      <td>Solanum lycopersicum Cytokinin Response Factor 6</td>\n",
       "      <td>ERF</td>\n",
       "      <td>1</td>\n",
       "    </tr>\n",
       "    <tr>\n",
       "      <th>2</th>\n",
       "      <td>Solyc03g093550</td>\n",
       "      <td>Bcinerea_pval &amp; Mincognita_14dpi_pval</td>\n",
       "      <td>Ethylene-responsive transcription factor 5 (AHRD V3.3 *** A0A2G3CVP7_CAPCH)</td>\n",
       "      <td>ERF</td>\n",
       "      <td>2</td>\n",
       "    </tr>\n",
       "    <tr>\n",
       "      <th>4</th>\n",
       "      <td>Solyc07g063420</td>\n",
       "      <td>Cfulvum_pval &amp; Bcinerea_pval</td>\n",
       "      <td>NAC domain-containing protein (AHRD V3.3 *** A0A2U1LQQ4_ARTAN)</td>\n",
       "      <td>NAC</td>\n",
       "      <td>3</td>\n",
       "    </tr>\n",
       "    <tr>\n",
       "      <th>5</th>\n",
       "      <td>Solyc12g009240</td>\n",
       "      <td>Bcinerea_pval</td>\n",
       "      <td>Ethylene-responsive transcription factor (AHRD V3.3 *-* A0A2G3BP26_CAPCH)</td>\n",
       "      <td>ERF</td>\n",
       "      <td>4</td>\n",
       "    </tr>\n",
       "  </tbody>\n",
       "</table>\n",
       "</div>"
      ],
      "text/plain": [
       "              OLN                                                  Groups  \\\n",
       "0  Solyc07g054220  PSTVd_S23_pval & Bcinerea_pval & Mincognita_14dpi_pval   \n",
       "1  Solyc06g051840                                            Cfulvum_pval   \n",
       "2  Solyc03g093550                   Bcinerea_pval & Mincognita_14dpi_pval   \n",
       "4  Solyc07g063420                            Cfulvum_pval & Bcinerea_pval   \n",
       "5  Solyc12g009240                                           Bcinerea_pval   \n",
       "\n",
       "                                                              gene.description  \\\n",
       "0    Ethylene-responsive transcription factor (AHRD V3.3 *** A0A2G3C0R2_CAPCH)   \n",
       "1                             Solanum lycopersicum Cytokinin Response Factor 6   \n",
       "2  Ethylene-responsive transcription factor 5 (AHRD V3.3 *** A0A2G3CVP7_CAPCH)   \n",
       "4               NAC domain-containing protein (AHRD V3.3 *** A0A2U1LQQ4_ARTAN)   \n",
       "5    Ethylene-responsive transcription factor (AHRD V3.3 *-* A0A2G3BP26_CAPCH)   \n",
       "\n",
       "  gene.family  Mega_Cluster  \n",
       "0         ERF             1  \n",
       "1         ERF             1  \n",
       "2         ERF             2  \n",
       "4         NAC             3  \n",
       "5         ERF             4  "
      ]
     },
     "execution_count": 34,
     "metadata": {},
     "output_type": "execute_result"
    }
   ],
   "source": [
    "res_comm"
   ]
  },
  {
   "cell_type": "code",
   "execution_count": 35,
   "metadata": {},
   "outputs": [],
   "source": [
    "res_comm.to_csv('./Results_hubs_by_TDA_mega_cluster.tsv', sep='\\t', index=False)"
   ]
  },
  {
   "cell_type": "code",
   "execution_count": null,
   "metadata": {},
   "outputs": [],
   "source": [
    "# res_comm['OLN'].to_csv('./Hubs_ID_mega_cluster.txt', sep='\\t', index=False, header=False)"
   ]
  },
  {
   "cell_type": "code",
   "execution_count": null,
   "metadata": {},
   "outputs": [],
   "source": [
    "df[df['TF'].isin(res_hubs[~res_hubs['Groups'].isna()]['OLN'].unique())].to_csv('TF_signif_in_mega_cluster.tsv', sep='\\t', index=False)"
   ]
  },
  {
   "cell_type": "code",
   "execution_count": null,
   "metadata": {},
   "outputs": [],
   "source": [
    "custom_cluster = {1: [0,2,3,5],\n",
    "                  2: [7],\n",
    "                  3: [19,9,18,13,15,17],\n",
    "                  4: [11]}"
   ]
  },
  {
   "cell_type": "code",
   "execution_count": null,
   "metadata": {},
   "outputs": [],
   "source": [
    "mapper_cluster[mapper_cluster['Value'].isin(custom_cluster[4])]['Gene'].unique().tofile('TF_in_mega_cluster_4.tsv', sep='\\n', format='%s')"
   ]
  },
  {
   "cell_type": "markdown",
   "metadata": {},
   "source": [
    "----"
   ]
  },
  {
   "cell_type": "code",
   "execution_count": null,
   "metadata": {},
   "outputs": [],
   "source": [
    "tf_counts = mapper_cluster['Value'].value_counts().to_dict()"
   ]
  },
  {
   "cell_type": "code",
   "execution_count": null,
   "metadata": {},
   "outputs": [
    {
     "data": {
      "image/png": "[encoded data removed]",
      "text/plain": [
       "<Figure size 1000x1000 with 2 Axes>"
      ]
     },
     "metadata": {},
     "output_type": "display_data"
    }
   ],
   "source": [
    "# Step 2: Combine data into a new dataframe\n",
    "plot_data = []\n",
    "for community, size in edge_counts.items():\n",
    "    tf_count = tf_counts.get(community, 0)  # Get TF count, default to 0 if not present\n",
    "    non_tf_count = size - tf_count  # Remaining nodes in the community\n",
    "    plot_data.append({'Cluster': community, 'TF': tf_count, 'Non-TF': non_tf_count})\n",
    "\n",
    "plot_df = pd.DataFrame(plot_data)\n",
    "\n",
    "fig, (ax1, ax2) = plt.subplots(2, 1, sharex=True)\n",
    "fig.subplots_adjust(hspace=0.05)# adjust space between Axes\n",
    "fig.set_size_inches(10, 10)\n",
    "# Step 3: Create a stacked bar plot\n",
    "\n",
    "bar_width = 0.5\n",
    "\n",
    "# Plot Non-TF nodes\n",
    "ax1.bar(\n",
    "    plot_df['Cluster'],\n",
    "    plot_df['Non-TF'],\n",
    "    color='skyblue',\n",
    "    label='Target Genes',\n",
    "    width=bar_width\n",
    ")\n",
    "\n",
    "# Plot TF nodes on top\n",
    "ax1.bar(\n",
    "    plot_df['Cluster'],\n",
    "    plot_df['TF'],\n",
    "    bottom=plot_df['Non-TF'].values,\n",
    "    color='red',\n",
    "    label='TFs',\n",
    "    width=bar_width\n",
    ")\n",
    "# Plot Non-TF nodes\n",
    "ax2.bar(\n",
    "    plot_df['Cluster'],\n",
    "    plot_df['Non-TF'],\n",
    "    color='skyblue',\n",
    "    label='Target Genes',\n",
    "    width=bar_width\n",
    ")\n",
    "\n",
    "# Plot TF nodes on top\n",
    "ax2.bar(\n",
    "    plot_df['Cluster'],\n",
    "    plot_df['TF'],\n",
    "    bottom=plot_df['Non-TF'].values,\n",
    "    color='red',\n",
    "    label='TFs',\n",
    "    width=bar_width\n",
    ")\n",
    "\n",
    "ax2.set_ylim(0, 350)\n",
    "ax1.set_ylim(600, 1450)\n",
    "# Step 4: Customize the plot\n",
    "ax2.set_xlabel('Cluster', fontsize=12)\n",
    "ax2.set_ylabel('Number of Nodes', fontsize=12)\n",
    "fig.suptitle('Node Composition in Clusters', fontsize=14)\n",
    "ax2.set_xticks(ticks=plot_df['Cluster'], labels=plot_df['Cluster'])\n",
    "ax1.legend(loc='upper right', fontsize=10)\n",
    "\n",
    "ax1.spines.bottom.set_visible(False)\n",
    "ax2.spines.top.set_visible(False)\n",
    "ax1.xaxis.tick_top()\n",
    "ax1.tick_params(labeltop=False)  # don't put tick labels at the top\n",
    "ax2.xaxis.tick_bottom()\n",
    "d = .5  # proportion of vertical to horizontal extent of the slanted line\n",
    "kwargs = dict(marker=[(-1, -d), (1, d)], markersize=12,\n",
    "              linestyle=\"none\", color='k', mec='k', mew=1, clip_on=False)\n",
    "ax1.plot([0, 1], [0, 0], transform=ax1.transAxes, **kwargs)\n",
    "ax2.plot([0, 1], [1, 1], transform=ax2.transAxes, **kwargs)\n",
    "# Show the plot\n",
    "plt.tight_layout()\n",
    "plt.show()"
   ]
  },
  {
   "cell_type": "code",
   "execution_count": null,
   "metadata": {},
   "outputs": [],
   "source": [
    "custom_cluster = {1: [0,2,3,5],\n",
    "                  2: [7,19],\n",
    "                  3: [9,18,13,15,17],\n",
    "                  4: [11]}\n",
    "cluster_to_mega = {cluster: mega for mega, clusters in custom_cluster.items() for cluster in clusters}"
   ]
  },
  {
   "cell_type": "code",
   "execution_count": null,
   "metadata": {},
   "outputs": [],
   "source": [
    "plot_df['MegaCluster'] = plot_df['Cluster'].map(cluster_to_mega)\n",
    "plot_df['MegaCluster']=plot_df['MegaCluster'].replace(np.nan, 0)"
   ]
  },
  {
   "cell_type": "code",
   "execution_count": null,
   "metadata": {},
   "outputs": [
    {
     "data": {
      "text/html": [
       "<div>\n",
       "<style scoped>\n",
       "    .dataframe tbody tr th:only-of-type {\n",
       "        vertical-align: middle;\n",
       "    }\n",
       "\n",
       "    .dataframe tbody tr th {\n",
       "        vertical-align: top;\n",
       "    }\n",
       "\n",
       "    .dataframe thead th {\n",
       "        text-align: right;\n",
       "    }\n",
       "</style>\n",
       "<table border=\"1\" class=\"dataframe\">\n",
       "  <thead>\n",
       "    <tr style=\"text-align: right;\">\n",
       "      <th></th>\n",
       "      <th>Cluster</th>\n",
       "      <th>TF</th>\n",
       "      <th>Non-TF</th>\n",
       "      <th>MegaCluster</th>\n",
       "    </tr>\n",
       "  </thead>\n",
       "  <tbody>\n",
       "    <tr>\n",
       "      <th>0</th>\n",
       "      <td>1</td>\n",
       "      <td>1</td>\n",
       "      <td>2731</td>\n",
       "      <td>0.0</td>\n",
       "    </tr>\n",
       "    <tr>\n",
       "      <th>1</th>\n",
       "      <td>2</td>\n",
       "      <td>31</td>\n",
       "      <td>658</td>\n",
       "      <td>1.0</td>\n",
       "    </tr>\n",
       "    <tr>\n",
       "      <th>2</th>\n",
       "      <td>3</td>\n",
       "      <td>19</td>\n",
       "      <td>529</td>\n",
       "      <td>1.0</td>\n",
       "    </tr>\n",
       "    <tr>\n",
       "      <th>3</th>\n",
       "      <td>4</td>\n",
       "      <td>1</td>\n",
       "      <td>196</td>\n",
       "      <td>0.0</td>\n",
       "    </tr>\n",
       "  </tbody>\n",
       "</table>\n",
       "</div>"
      ],
      "text/plain": [
       "   Cluster  TF  Non-TF  MegaCluster\n",
       "0        1   1    2731          0.0\n",
       "1        2  31     658          1.0\n",
       "2        3  19     529          1.0\n",
       "3        4   1     196          0.0"
      ]
     },
     "execution_count": 63,
     "metadata": {},
     "output_type": "execute_result"
    }
   ],
   "source": [
    "plot_df"
   ]
  },
  {
   "cell_type": "code",
   "execution_count": null,
   "metadata": {},
   "outputs": [
    {
     "data": {
      "image/png": "[encoded data removed]",
      "text/plain": [
       "<Figure size 1098.36x1000 with 1 Axes>"
      ]
     },
     "metadata": {},
     "output_type": "display_data"
    }
   ],
   "source": [
    "from scipy.stats import linregress\n",
    "# Step 1: Perform linear regression using scipy\n",
    "slope, intercept, r_value, p_value, std_err = linregress(plot_df['TF'], plot_df['Non-TF'])\n",
    "\n",
    "# Step 2: Calculate R² value\n",
    "r_squared = r_value**2\n",
    "\n",
    "# Step 3: Create the plot\n",
    "g = sns.lmplot(x='TF', y='Non-TF', hue='MegaCluster', data=plot_df, fit_reg=False, height=10, aspect=1)\n",
    "sns.regplot(x='TF', y='Non-TF', data=plot_df, scatter=False, line_kws={'color': 'red'})\n",
    "# Step 4: Display the R² value and p-value on the plot\n",
    "plt.xlabel('Number of TFs in Cluster')\n",
    "plt.ylabel('Number of Target Genes in Cluster')\n",
    "\n",
    "# Format the p-value for readability\n",
    "if p_value < 0.001:\n",
    "    p_text = '< 0.001'\n",
    "else:\n",
    "    p_text = f'{p_value:.3f}'\n",
    "\n",
    "# Add R² and p-value text to the plot\n",
    "plt.text(\n",
    "    0.05, 0.95, \n",
    "    f'R² = {r_squared:.3f}\\nP  {p_text}', \n",
    "    transform=plt.gca().transAxes, \n",
    "    fontsize=14, \n",
    "    verticalalignment='top'\n",
    ")\n",
    "\n",
    "# Show the plot\n",
    "plt.legend()\n",
    "plt.show()"
   ]
  },
  {
   "cell_type": "code",
   "execution_count": null,
   "metadata": {},
   "outputs": [
    {
     "data": {
      "image/png": "[encoded data removed]",
      "text/plain": [
       "<Figure size 1000x800 with 1 Axes>"
      ]
     },
     "metadata": {},
     "output_type": "display_data"
    }
   ],
   "source": [
    "import seaborn as sns\n",
    "import matplotlib.pyplot as plt\n",
    "from scipy.stats import pearsonr\n",
    "\n",
    "# Compute Pearson correlation coefficient globally\n",
    "corr_coeff, p_value = pearsonr(plot_df['TF'], plot_df['Non-TF'])\n",
    "\n",
    "# Create figure and axis\n",
    "plt.figure(figsize=(10, 8))\n",
    "\n",
    "# Plot the regression line globally (without hue)\n",
    "sns.regplot(\n",
    "    x='TF', y='Non-TF', data=plot_df, \n",
    "    scatter=False, color='black', ci=None  # Regression line only\n",
    ")\n",
    "\n",
    "# Scatter plot with color by MegaCluster\n",
    "sns.scatterplot(\n",
    "    x='TF', y='Non-TF', hue='MegaCluster', data=plot_df, \n",
    "    palette='tab10'\n",
    ")\n",
    "\n",
    "# Format the p-value for readability\n",
    "# p_text = '< 0.001' if p_value < 0.001 else f'{p_value:.3f}'\n",
    "\n",
    "# Add Pearson correlation coefficient and p-value text\n",
    "plt.text(\n",
    "    0.05, 0.95, \n",
    "    f'Pearson r = {corr_coeff:.3f}', \n",
    "    transform=plt.gca().transAxes, \n",
    "    fontsize=14, \n",
    "    verticalalignment='top'\n",
    ")\n",
    "\n",
    "# Labels\n",
    "plt.xlabel('Number of TFs in Cluster')\n",
    "plt.ylabel('Number of Target Genes in Cluster')\n",
    "\n",
    "# Show the legend and plot\n",
    "plt.legend(title=\"MegaCluster\")\n",
    "plt.show()\n"
   ]
  },
  {
   "cell_type": "code",
   "execution_count": null,
   "metadata": {},
   "outputs": [],
   "source": []
  }
 ],
 "metadata": {
  "kernelspec": {
   "display_name": "GRN",
   "language": "python",
   "name": "python3"
  },
  "language_info": {
   "codemirror_mode": {
    "name": "ipython",
    "version": 3
   },
   "file_extension": ".py",
   "mimetype": "text/x-python",
   "name": "python",
   "nbconvert_exporter": "python",
   "pygments_lexer": "ipython3",
   "version": "3.12.6"
  }
 },
 "nbformat": 4,
 "nbformat_minor": 2
}
