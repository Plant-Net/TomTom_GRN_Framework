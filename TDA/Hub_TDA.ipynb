{
 "cells": [
  {
   "cell_type": "markdown",
   "metadata": {},
   "source": [
    "#### Use the TDA to instead of community detection and perform hubs detection"
   ]
  },
  {
   "cell_type": "code",
   "execution_count": 5,
   "metadata": {},
   "outputs": [],
   "source": [
    "import subprocess\n",
    "import igraph as ig\n",
    "import matplotlib.pyplot as plt\n",
    "from matplotlib_venn import venn2\n",
    "import pandas as pd\n",
    "import numpy as np\n",
    "import seaborn as sns\n",
    "import itertools\n",
    "plt.rcParams['svg.fonttype'] = 'none'"
   ]
  },
  {
   "cell_type": "markdown",
   "metadata": {},
   "source": [
    "Import GRN"
   ]
  },
  {
   "cell_type": "code",
   "execution_count": 6,
   "metadata": {},
   "outputs": [],
   "source": [
    "# Step 1: Read the content from the local file\n",
    "with open('./mapper_nodes.txt', 'r') as file:\n",
    "    content = file.read()\n",
    "\n",
    "# Step 2: Interpret the content with 'eval' or 'ast.literal_eval'\n",
    "# Create a dictionary to safely handle 'array'\n",
    "data = eval(content, {\"array\": np.array})\n",
    "\n",
    "# Step 3: Convert data to a DataFrame for easier manipulation\n",
    "rows = []\n",
    "for value, genes in data:\n",
    "    for gene in genes:\n",
    "        rows.append({'Value': value, 'Gene': gene})\n",
    "\n",
    "df = pd.DataFrame(rows)"
   ]
  },
  {
   "cell_type": "code",
   "execution_count": 7,
   "metadata": {},
   "outputs": [],
   "source": [
    "df.to_csv('Mapper_node_df.tsv', sep='\\t', index=False)"
   ]
  },
  {
   "cell_type": "code",
   "execution_count": 8,
   "metadata": {},
   "outputs": [],
   "source": [
    "cGRN = pd.read_csv('./Data/Curated_gene_regulatory_network.tsv', sep='\\t')\n",
    "mapper_cluster = df"
   ]
  },
  {
   "cell_type": "code",
   "execution_count": 9,
   "metadata": {},
   "outputs": [
    {
     "name": "stdout",
     "output_type": "stream",
     "text": [
      "Summary of the graph:\n",
      "Number of vertices: 1786\n",
      "Number of edges: 4201\n"
     ]
    }
   ],
   "source": [
    "# Create an igraph Graph from the edge list\n",
    "graph = ig.Graph.TupleList(cGRN[['TF', 'Target_Gene']].itertuples(index=False), directed=True)\n",
    "\n",
    "# Print summary of the graph\n",
    "print(\"Summary of the graph:\")\n",
    "print(\"Number of vertices:\", graph.vcount())\n",
    "print(\"Number of edges:\", graph.ecount())"
   ]
  },
  {
   "cell_type": "code",
   "execution_count": 10,
   "metadata": {},
   "outputs": [],
   "source": [
    "node_names = graph.vs['name']  # Get the names of the vertices\n",
    "in_degrees = graph.degree(mode='in')  # In-degree\n",
    "out_degrees = graph.degree(mode='out')  # Out-degree\n",
    "total_degrees = graph.degree(mode='all')  # Total degree\n",
    "\n",
    "degree_df = pd.DataFrame({\n",
    "    'Gene_Name': node_names,\n",
    "    'In_Degree': in_degrees,\n",
    "    'Out_Degree': out_degrees,\n",
    "    'Total_Degree': total_degrees\n",
    "})"
   ]
  },
  {
   "cell_type": "code",
   "execution_count": 11,
   "metadata": {},
   "outputs": [],
   "source": [
    "degree_df.to_csv('Degree_CGRN.tsv', sep='\\t', index=False)"
   ]
  },
  {
   "cell_type": "markdown",
   "metadata": {},
   "source": [
    "*********"
   ]
  },
  {
   "cell_type": "markdown",
   "metadata": {},
   "source": [
    "### Hub by grouping similar cluster"
   ]
  },
  {
   "cell_type": "markdown",
   "metadata": {},
   "source": [
    "Thanks to the adjacency plots, we identified 4 mega clusters defined as :\n",
    "- 1 - 0+2+3+5 (multiple shared)\n",
    "- 2 - 7+19 (spe shared)\n",
    "- 3 - 18+9+13+17 (multiple exclusif)\n",
    "- 4 - 11 (spe exclusif)"
   ]
  },
  {
   "cell_type": "markdown",
   "metadata": {},
   "source": [
    "We can identifed hubs on these mega clusters"
   ]
  },
  {
   "cell_type": "code",
   "execution_count": 12,
   "metadata": {},
   "outputs": [
    {
     "name": "stdout",
     "output_type": "stream",
     "text": [
      "Community - Hub Nodes:\n",
      "Community 1: Hubs ['Solyc07g054220', 'Solyc06g051840']\n",
      "Community 2: Hubs ['Solyc03g093550']\n",
      "Community 3: Hubs ['Solyc07g063420', 'Solyc06g082430']\n",
      "Community 4: Hubs ['Solyc10g047640', 'Solyc12g009240']\n"
     ]
    }
   ],
   "source": [
    "custom_cluster = {1: [0,2,3,5],\n",
    "                  2: [7],\n",
    "                  3: [9,18,13,15,17,11],\n",
    "                  4: [19]}\n",
    "# Dictionary to store community and corresponding hub nodes\n",
    "community_hubs = {}\n",
    "# Dictionary to store centrality values for each node\n",
    "node_centrality = {}\n",
    "edge_counts = {}\n",
    "nodes_counts = {}\n",
    "## Save the TFs in each mega cluster\n",
    "TF_in_mega_cluster_saved = {}\n",
    "# Iterate through communities\n",
    "for community_id in custom_cluster:\n",
    "    \n",
    "    TF_in_mega_cluster = mapper_cluster[mapper_cluster['Value'].isin(custom_cluster[community_id])]['Gene'].unique() # Find unique TF in the mega cluster\n",
    "    TF_in_mega_cluster_saved[community_id] = TF_in_mega_cluster\n",
    "    sub_cGRN = cGRN[(cGRN['TF'].isin(TF_in_mega_cluster))] # Retrieve the subGRN composed of the TF in the mega cluster\n",
    "    subgraph = ig.Graph.TupleList(sub_cGRN[['TF', 'Target_Gene']].itertuples(index=False), directed=True) #create the subgraph\n",
    "    nodes_counts[community_id] = subgraph.vcount()\n",
    "    edge_counts[community_id] = subgraph.ecount()\n",
    "\n",
    "    # Compute centrality measures for nodes in the community subgraph\n",
    "    degree_centrality = subgraph.degree()\n",
    "    betweenness_centrality = subgraph.betweenness(directed=True)\n",
    "\n",
    "    # Find top two nodes for degree centrality\n",
    "    degree_centrality_with_names = [(subgraph.vs[node][\"name\"], centrality) for node, centrality in enumerate(degree_centrality)]\n",
    "    degree_centrality_with_names.sort(key=lambda x: x[1], reverse=True)\n",
    "\n",
    "    max_degree_nodes = degree_centrality_with_names[:1]  # Top 2 nodes\n",
    "    max_degree_nodes = [node[0] for node in max_degree_nodes]  # Extract names\n",
    "\n",
    "    # Find top two nodes for betweenness centrality\n",
    "    betweenness_centrality_with_names = [(subgraph.vs[node][\"name\"], centrality) for node, centrality in enumerate(betweenness_centrality)]\n",
    "    betweenness_centrality_with_names.sort(key=lambda x: x[1], reverse=True)\n",
    "\n",
    "    max_betweenness_nodes = betweenness_centrality_with_names[:1]  # Top 2 nodes\n",
    "    max_betweenness_nodes = [node[0] for node in max_betweenness_nodes if node[1] > 0]  # Exclude zero centrality\n",
    "\n",
    "    # Combine all nodes with the highest centrality values\n",
    "    hub_nodes = list(set(max_degree_nodes + max_betweenness_nodes))\n",
    "\n",
    "    # Store the hub nodes for the community\n",
    "    community_hubs[community_id] = hub_nodes\n",
    "\n",
    "    # Update node_centrality dictionary with centrality values for nodes in the community\n",
    "    for node_index, node_name in enumerate(subgraph.vs[\"name\"]):\n",
    "        node_centrality.setdefault(node_name, {}).update({\n",
    "            \"Degree Centrality\": degree_centrality[node_index],\n",
    "            \"Betweenness Centrality\": betweenness_centrality[node_index],\n",
    "        })\n",
    "\n",
    "# Print the dictionary of community and corresponding hub nodes\n",
    "print(\"Community - Hub Nodes:\")\n",
    "for community, hub_nodes in community_hubs.items():\n",
    "    print(f\"Community {community}: Hubs {hub_nodes}\")"
   ]
  },
  {
   "cell_type": "code",
   "execution_count": 13,
   "metadata": {},
   "outputs": [],
   "source": [
    "df = pd.DataFrame([(key, value) for key, values in TF_in_mega_cluster_saved.items() for value in values],\n",
    "                  columns=['Mega_Cluster', 'TF'])"
   ]
  },
  {
   "cell_type": "code",
   "execution_count": 14,
   "metadata": {},
   "outputs": [],
   "source": [
    "# df.to_csv('TF_in_mega_cluster.tsv', sep='\\t', index=False)"
   ]
  },
  {
   "cell_type": "markdown",
   "metadata": {},
   "source": [
    "Compare with activity"
   ]
  },
  {
   "cell_type": "code",
   "execution_count": 15,
   "metadata": {},
   "outputs": [],
   "source": [
    "def expand_dataframe(community_dict):\n",
    "    expanded_rows = []\n",
    "    \n",
    "    for gene, communities in community_dict.items():\n",
    "        for community in communities:\n",
    "            expanded_rows.append([gene, community])  # Append as a list of values\n",
    "    \n",
    "    return pd.DataFrame(expanded_rows, columns=['Cluster', 'OLN'])"
   ]
  },
  {
   "cell_type": "code",
   "execution_count": 16,
   "metadata": {},
   "outputs": [],
   "source": [
    "res_hubs = pd.read_csv('../Results_hubs_activity_stats.tsv',sep='\\t')"
   ]
  },
  {
   "cell_type": "code",
   "execution_count": 17,
   "metadata": {},
   "outputs": [],
   "source": [
    "pd.set_option('display.max_colwidth', None)"
   ]
  },
  {
   "cell_type": "code",
   "execution_count": 18,
   "metadata": {},
   "outputs": [],
   "source": [
    "Hubs_mega_cluster = [TF for TFs in community_hubs.values() for TF in TFs]"
   ]
  },
  {
   "cell_type": "code",
   "execution_count": 19,
   "metadata": {},
   "outputs": [],
   "source": [
    "res_mega_cluster = res_hubs[res_hubs['OLN'].isin(Hubs_mega_cluster)][['OLN','Groups', 'gene.description', 'gene.family']]"
   ]
  },
  {
   "cell_type": "code",
   "execution_count": 20,
   "metadata": {},
   "outputs": [
    {
     "data": {
      "text/plain": [
       "['Solyc03g093550',\n",
       " 'Solyc06g051840',\n",
       " 'Solyc07g054220',\n",
       " 'Solyc07g063420',\n",
       " 'Solyc12g009240']"
      ]
     },
     "execution_count": 20,
     "metadata": {},
     "output_type": "execute_result"
    }
   ],
   "source": [
    "res_mega_cluster[~res_mega_cluster['Groups'].isna()]['OLN'].to_list()"
   ]
  },
  {
   "cell_type": "code",
   "execution_count": 21,
   "metadata": {},
   "outputs": [],
   "source": [
    "expanded_df = expand_dataframe(community_hubs)"
   ]
  },
  {
   "cell_type": "code",
   "execution_count": 22,
   "metadata": {},
   "outputs": [],
   "source": [
    "res_comm = pd.merge(res_mega_cluster,expanded_df, on='OLN', how='right')"
   ]
  },
  {
   "cell_type": "code",
   "execution_count": 23,
   "metadata": {},
   "outputs": [],
   "source": [
    "res_comm = res_comm[~res_comm['Groups'].isna()]"
   ]
  },
  {
   "cell_type": "code",
   "execution_count": 24,
   "metadata": {},
   "outputs": [],
   "source": [
    "res_comm.rename(columns={'Cluster':'Mega_Cluster'}, inplace=True)"
   ]
  },
  {
   "cell_type": "code",
   "execution_count": 25,
   "metadata": {},
   "outputs": [
    {
     "data": {
      "application/vnd.microsoft.datawrangler.viewer.v0+json": {
       "columns": [
        {
         "name": "index",
         "rawType": "int64",
         "type": "integer"
        },
        {
         "name": "OLN",
         "rawType": "object",
         "type": "string"
        },
        {
         "name": "Groups",
         "rawType": "object",
         "type": "string"
        },
        {
         "name": "gene.description",
         "rawType": "object",
         "type": "string"
        },
        {
         "name": "gene.family",
         "rawType": "object",
         "type": "string"
        },
        {
         "name": "Mega_Cluster",
         "rawType": "int64",
         "type": "integer"
        }
       ],
       "ref": "e8395c98-d1b4-48c1-a8e5-896b4f0345cd",
       "rows": [
        [
         "0",
         "Solyc07g054220",
         "PSTVd_S23_pval & Bcinerea_pval & Mincognita_14dpi_pval",
         "Ethylene-responsive transcription factor (AHRD V3.3 *** A0A2G3C0R2_CAPCH)",
         "ERF",
         "1"
        ],
        [
         "1",
         "Solyc06g051840",
         "Cfulvum_pval",
         "Solanum lycopersicum Cytokinin Response Factor 6",
         "ERF",
         "1"
        ],
        [
         "2",
         "Solyc03g093550",
         "Bcinerea_pval & Mincognita_14dpi_pval",
         "Ethylene-responsive transcription factor 5 (AHRD V3.3 *** A0A2G3CVP7_CAPCH)",
         "ERF",
         "2"
        ],
        [
         "3",
         "Solyc07g063420",
         "Cfulvum_pval & Bcinerea_pval",
         "NAC domain-containing protein (AHRD V3.3 *** A0A2U1LQQ4_ARTAN)",
         "NAC",
         "3"
        ],
        [
         "6",
         "Solyc12g009240",
         "Bcinerea_pval",
         "Ethylene-responsive transcription factor (AHRD V3.3 *-* A0A2G3BP26_CAPCH)",
         "ERF",
         "4"
        ]
       ],
       "shape": {
        "columns": 5,
        "rows": 5
       }
      },
      "text/html": [
       "<div>\n",
       "<style scoped>\n",
       "    .dataframe tbody tr th:only-of-type {\n",
       "        vertical-align: middle;\n",
       "    }\n",
       "\n",
       "    .dataframe tbody tr th {\n",
       "        vertical-align: top;\n",
       "    }\n",
       "\n",
       "    .dataframe thead th {\n",
       "        text-align: right;\n",
       "    }\n",
       "</style>\n",
       "<table border=\"1\" class=\"dataframe\">\n",
       "  <thead>\n",
       "    <tr style=\"text-align: right;\">\n",
       "      <th></th>\n",
       "      <th>OLN</th>\n",
       "      <th>Groups</th>\n",
       "      <th>gene.description</th>\n",
       "      <th>gene.family</th>\n",
       "      <th>Mega_Cluster</th>\n",
       "    </tr>\n",
       "  </thead>\n",
       "  <tbody>\n",
       "    <tr>\n",
       "      <th>0</th>\n",
       "      <td>Solyc07g054220</td>\n",
       "      <td>PSTVd_S23_pval &amp; Bcinerea_pval &amp; Mincognita_14dpi_pval</td>\n",
       "      <td>Ethylene-responsive transcription factor (AHRD V3.3 *** A0A2G3C0R2_CAPCH)</td>\n",
       "      <td>ERF</td>\n",
       "      <td>1</td>\n",
       "    </tr>\n",
       "    <tr>\n",
       "      <th>1</th>\n",
       "      <td>Solyc06g051840</td>\n",
       "      <td>Cfulvum_pval</td>\n",
       "      <td>Solanum lycopersicum Cytokinin Response Factor 6</td>\n",
       "      <td>ERF</td>\n",
       "      <td>1</td>\n",
       "    </tr>\n",
       "    <tr>\n",
       "      <th>2</th>\n",
       "      <td>Solyc03g093550</td>\n",
       "      <td>Bcinerea_pval &amp; Mincognita_14dpi_pval</td>\n",
       "      <td>Ethylene-responsive transcription factor 5 (AHRD V3.3 *** A0A2G3CVP7_CAPCH)</td>\n",
       "      <td>ERF</td>\n",
       "      <td>2</td>\n",
       "    </tr>\n",
       "    <tr>\n",
       "      <th>3</th>\n",
       "      <td>Solyc07g063420</td>\n",
       "      <td>Cfulvum_pval &amp; Bcinerea_pval</td>\n",
       "      <td>NAC domain-containing protein (AHRD V3.3 *** A0A2U1LQQ4_ARTAN)</td>\n",
       "      <td>NAC</td>\n",
       "      <td>3</td>\n",
       "    </tr>\n",
       "    <tr>\n",
       "      <th>6</th>\n",
       "      <td>Solyc12g009240</td>\n",
       "      <td>Bcinerea_pval</td>\n",
       "      <td>Ethylene-responsive transcription factor (AHRD V3.3 *-* A0A2G3BP26_CAPCH)</td>\n",
       "      <td>ERF</td>\n",
       "      <td>4</td>\n",
       "    </tr>\n",
       "  </tbody>\n",
       "</table>\n",
       "</div>"
      ],
      "text/plain": [
       "              OLN                                                  Groups  \\\n",
       "0  Solyc07g054220  PSTVd_S23_pval & Bcinerea_pval & Mincognita_14dpi_pval   \n",
       "1  Solyc06g051840                                            Cfulvum_pval   \n",
       "2  Solyc03g093550                   Bcinerea_pval & Mincognita_14dpi_pval   \n",
       "3  Solyc07g063420                            Cfulvum_pval & Bcinerea_pval   \n",
       "6  Solyc12g009240                                           Bcinerea_pval   \n",
       "\n",
       "                                                              gene.description  \\\n",
       "0    Ethylene-responsive transcription factor (AHRD V3.3 *** A0A2G3C0R2_CAPCH)   \n",
       "1                             Solanum lycopersicum Cytokinin Response Factor 6   \n",
       "2  Ethylene-responsive transcription factor 5 (AHRD V3.3 *** A0A2G3CVP7_CAPCH)   \n",
       "3               NAC domain-containing protein (AHRD V3.3 *** A0A2U1LQQ4_ARTAN)   \n",
       "6    Ethylene-responsive transcription factor (AHRD V3.3 *-* A0A2G3BP26_CAPCH)   \n",
       "\n",
       "  gene.family  Mega_Cluster  \n",
       "0         ERF             1  \n",
       "1         ERF             1  \n",
       "2         ERF             2  \n",
       "3         NAC             3  \n",
       "6         ERF             4  "
      ]
     },
     "execution_count": 25,
     "metadata": {},
     "output_type": "execute_result"
    }
   ],
   "source": [
    "res_comm"
   ]
  },
  {
   "cell_type": "code",
   "execution_count": 26,
   "metadata": {},
   "outputs": [],
   "source": [
    "res_comm.to_csv('./Results_hubs_by_TDA_mega_cluster.tsv', sep='\\t', index=False)"
   ]
  }
 ],
 "metadata": {
  "kernelspec": {
   "display_name": "test_run",
   "language": "python",
   "name": "python3"
  },
  "language_info": {
   "codemirror_mode": {
    "name": "ipython",
    "version": 3
   },
   "file_extension": ".py",
   "mimetype": "text/x-python",
   "name": "python",
   "nbconvert_exporter": "python",
   "pygments_lexer": "ipython3",
   "version": "3.12.10"
  }
 },
 "nbformat": 4,
 "nbformat_minor": 2
}
