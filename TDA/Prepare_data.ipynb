{
 "cells": [
  {
   "cell_type": "markdown",
   "metadata": {},
   "source": [
    "### Data preparation for TDA\n",
    "The data include : \n",
    "- Matrix of genes present in the curated GRN (logFC and stats)\n",
    "- Edge list of the curated GRN\n",
    "- Matrix of TF activity"
   ]
  },
  {
   "cell_type": "code",
   "execution_count": 1,
   "metadata": {},
   "outputs": [],
   "source": [
    "import pandas as pd"
   ]
  },
  {
   "cell_type": "code",
   "execution_count": 2,
   "metadata": {},
   "outputs": [],
   "source": [
    "curated_net = pd.read_csv('../Data/Network_GRN_HIVE_curated.txt', sep='\\t')\n",
    "curated_net=curated_net.rename(columns={'tf.name':'TF','target.name':'Target_Gene'})\n",
    "curated_net=curated_net[['TF','Target_Gene']]"
   ]
  },
  {
   "cell_type": "code",
   "execution_count": null,
   "metadata": {},
   "outputs": [],
   "source": [
    "curated_net.to_csv('Data/Curated_gene_regulatory_network.tsv', sep='\\t',index=False)"
   ]
  },
  {
   "cell_type": "code",
   "execution_count": 4,
   "metadata": {},
   "outputs": [],
   "source": [
    "logFC = pd.read_csv('../DEA/Merge_logfc_all.tsv', sep='\\t', index_col=0)\n",
    "logFC = logFC.reset_index()\n",
    "logFC['Gene_Name'] = logFC['index'].str.extract(r'(Solyc\\d+g\\d+)')\n",
    "logFC = logFC.drop('index', axis=1)\n",
    "logFC = logFC.set_index('Gene_Name')\n",
    "filtered_logfc = logFC[logFC.index.isin(curated_net['TF']) | logFC.index.isin(curated_net['Target_Gene'])]"
   ]
  },
  {
   "cell_type": "code",
   "execution_count": null,
   "metadata": {},
   "outputs": [],
   "source": [
    "filtered_logfc.to_csv('Data/LogFC_genes_in_cGRN.tsv', sep='\\t')"
   ]
  },
  {
   "cell_type": "code",
   "execution_count": 6,
   "metadata": {},
   "outputs": [],
   "source": [
    "stats = pd.read_csv('../DEA/Merge_stat_all.tsv', sep='\\t', index_col=0)\n",
    "stats = stats.reset_index()\n",
    "stats['Gene_Name'] = stats['index'].str.extract(r'(Solyc\\d+g\\d+)')\n",
    "stats = stats.drop('index', axis=1)\n",
    "stats = stats.set_index('Gene_Name')\n",
    "filtered_stats = stats[stats.index.isin(curated_net['TF']) | stats.index.isin(curated_net['Target_Gene'])]"
   ]
  },
  {
   "cell_type": "code",
   "execution_count": null,
   "metadata": {},
   "outputs": [],
   "source": [
    "filtered_stats.to_csv('Data/Stats_genes_in_cGRN.tsv', sep='\\t')"
   ]
  },
  {
   "cell_type": "code",
   "execution_count": 8,
   "metadata": {},
   "outputs": [
    {
     "data": {
      "text/plain": [
       "71"
      ]
     },
     "execution_count": 8,
     "metadata": {},
     "output_type": "execute_result"
    }
   ],
   "source": [
    "len(curated_net['TF'].unique())"
   ]
  },
  {
   "cell_type": "code",
   "execution_count": 9,
   "metadata": {},
   "outputs": [],
   "source": [
    "acts_res = pd.read_csv('../Results_hubs_activity_stats.tsv', sep='\\t')\n",
    "acts_res.set_index('OLN', inplace=True)"
   ]
  },
  {
   "cell_type": "code",
   "execution_count": 10,
   "metadata": {},
   "outputs": [],
   "source": [
    "conditions = ['Pinfestans','Cfulvum','PSTVd_S23','PSTVd_M','Bcinerea','Mincognita_7dpi','Mincognita_14dpi']\n",
    "acts = \"_acts\"\n",
    "activity = [sample + acts for sample in conditions]"
   ]
  },
  {
   "cell_type": "code",
   "execution_count": 11,
   "metadata": {},
   "outputs": [],
   "source": [
    "TF_acts_cGRN = acts_res[activity]\n",
    "TF_acts_cGRN = TF_acts_cGRN.reset_index()\n",
    "TF_acts_cGRN.rename(columns={'OLN':'Gene_Name'}, inplace=True)\n",
    "TF_acts_cGRN = TF_acts_cGRN.set_index('Gene_Name')\n",
    "TF_acts_cGRN=TF_acts_cGRN[TF_acts_cGRN.index.isin(curated_net['TF'].unique())]\n",
    "TF_acts_cGRN = TF_acts_cGRN.fillna(0)"
   ]
  },
  {
   "cell_type": "code",
   "execution_count": 12,
   "metadata": {},
   "outputs": [],
   "source": [
    "# TF_zero_acts = set(curated_net['TF'].unique()).difference(set(TF_acts_cGRN.index))\n",
    "# zero_df = pd.DataFrame(\n",
    "#     0, \n",
    "#     index=list(TF_zero_acts), \n",
    "#     columns=TF_acts_cGRN.columns\n",
    "# )\n",
    "# zero_df.index.name = 'Gene_Name'\n",
    "# TF_acts_cGRN_complete = pd.concat([TF_acts_cGRN, zero_df])"
   ]
  },
  {
   "cell_type": "code",
   "execution_count": 13,
   "metadata": {},
   "outputs": [],
   "source": [
    "# TF_acts_cGRN_complete"
   ]
  },
  {
   "cell_type": "code",
   "execution_count": null,
   "metadata": {},
   "outputs": [],
   "source": [
    "TF_acts_cGRN.to_csv('Data/Activity_TF_in_cGRN.tsv', sep='\\t')"
   ]
  }
 ],
 "metadata": {
  "kernelspec": {
   "display_name": "GRN",
   "language": "python",
   "name": "python3"
  },
  "language_info": {
   "codemirror_mode": {
    "name": "ipython",
    "version": 3
   },
   "file_extension": ".py",
   "mimetype": "text/x-python",
   "name": "python",
   "nbconvert_exporter": "python",
   "pygments_lexer": "ipython3",
   "version": "3.12.6"
  }
 },
 "nbformat": 4,
 "nbformat_minor": 2
}
